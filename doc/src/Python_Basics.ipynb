{
 "cells": [
  {
   "cell_type": "markdown",
   "metadata": {},
   "source": [
    "# Created by Dylan R. Smith on 10/11/2018, Thursday\n",
    "### Edited by Abudit P. Rai\n",
    "#### Last Edited: 10/24/2018, Wednesday"
   ]
  },
  {
   "cell_type": "markdown",
   "metadata": {},
   "source": [
    "##### Below are some examples of modules and libraries that are commonly used in Python programs. These are also extremely useful for computational physics and you will see these used often! \n",
    "##### Cells can be run in Jupyter notebook by having them highlighted and pressing Shift+Enter"
   ]
  },
  {
   "cell_type": "code",
   "execution_count": 1,
   "metadata": {},
   "outputs": [],
   "source": [
    "import matplotlib.pyplot as plt #Used for plotting graphs\n",
    "import numpy as np #has several mathematical operations on arrays\n",
    "import math as mt #has several basic math functions (sin/cos, exp, sqrt, etc...)\n",
    "#Additionally, comments can be made in python using # and typing after"
   ]
  },
  {
   "cell_type": "markdown",
   "metadata": {},
   "source": [
    "##### The following are basic methods of computation that can be used throughout many fields, including Physics. The following cell contains a \"for loop,\" a specific loop that iterates over a certain number of times desired"
   ]
  },
  {
   "cell_type": "code",
   "execution_count": 2,
   "metadata": {},
   "outputs": [
    {
     "name": "stdout",
     "output_type": "stream",
     "text": [
      "0\n",
      "1\n",
      "2\n",
      "3\n",
      "4\n"
     ]
    }
   ],
   "source": [
    "#for loops iterate over a given range\n",
    "for i in range(5):\n",
    "    print (i)\n",
    "#Notice how the loop begins at 0 and stops iterating after the second-to-last i. \n",
    "#Also, any variable name can be given in place of i"
   ]
  },
  {
   "cell_type": "code",
   "execution_count": 11,
   "metadata": {},
   "outputs": [
    {
     "name": "stdout",
     "output_type": "stream",
     "text": [
      "0\n",
      "1\n",
      "2\n",
      "3\n",
      "4\n"
     ]
    }
   ],
   "source": [
    "#while loops iterate up to a certain given point\n",
    "k=0 #This declares our variable k to be 0\n",
    "while k<5:\n",
    "    print (k)\n",
    "    k+=1 #this adds 1 to the value of k every time the while loop is iterated\n",
    "    "
   ]
  },
  {
   "cell_type": "markdown",
   "metadata": {},
   "source": [
    "#### We can make the while loop print up to 5 by making the while statement say \"is less than or equal to\" (<=)"
   ]
  },
  {
   "cell_type": "code",
   "execution_count": 5,
   "metadata": {},
   "outputs": [
    {
     "name": "stdout",
     "output_type": "stream",
     "text": [
      "0\n",
      "1\n",
      "2\n",
      "3\n",
      "4\n",
      "5\n"
     ]
    }
   ],
   "source": [
    "k=0\n",
    "while k<=5:\n",
    "    print (k)\n",
    "    k+=1"
   ]
  },
  {
   "cell_type": "markdown",
   "metadata": {},
   "source": [
    "### lists are exactly what they sound like; they store a collection of objects. Objects can be stored as dfferent types of values based on how they are syntaxed."
   ]
  },
  {
   "cell_type": "code",
   "execution_count": 22,
   "metadata": {},
   "outputs": [
    {
     "name": "stdout",
     "output_type": "stream",
     "text": [
      "First object in the list is:  cats\n",
      "Second object in the list getting multiplied by 4:  1111\n",
      "Third object in the list getting multiplied by 4:  4\n"
     ]
    }
   ],
   "source": [
    "list1=['cats', '1', 1, 3.465] \n",
    "#By putting quotation marks around an object, they become a form of information known as \"strings.\" These don't have \n",
    "#numerical values like the 1 or 3.465 thus cannot be manipulated in equations, but are rather simply read. \n",
    "\n",
    "print (\"First object in the list is: \", list1[0]) #prints a given element of a list (notice how the first element is zero)\n",
    "print (\"Second object in the list getting multiplied by 4: \", list1[1]*4) #Notice how it prints '1' four times\n",
    "print (\"Third object in the list getting multiplied by 4: \", list1[2]*4) #Notice now how it is 1*4, unlike before"
   ]
  },
  {
   "cell_type": "markdown",
   "metadata": {},
   "source": [
    "### Arrays are objects imported from numpy that are similar to lists, but numpy has a number of operations that can be performed on them"
   ]
  },
  {
   "cell_type": "code",
   "execution_count": 23,
   "metadata": {},
   "outputs": [
    {
     "name": "stdout",
     "output_type": "stream",
     "text": [
      "[ 0  1  2  3  4  5  6  7  8  9 10 11 12 13 14 15 16 17 18 19]\n"
     ]
    }
   ],
   "source": [
    "arr1=np.arange(20)\n",
    "print (arr1) #As you will see, this array has 20 values starting at 0"
   ]
  },
  {
   "cell_type": "markdown",
   "metadata": {},
   "source": [
    "### Functions take in an input and return a chosen output. Functions are made in python by using \"def.\" Below we will create a funciton for the equation y = sqrt(x^2 + z^2)"
   ]
  },
  {
   "cell_type": "code",
   "execution_count": 25,
   "metadata": {},
   "outputs": [
    {
     "name": "stdout",
     "output_type": "stream",
     "text": [
      "2.23606797749979\n"
     ]
    }
   ],
   "source": [
    "def norm(x, z): #This function takes in two variables, one designated as \"pt1\" and the second as \"pt2\"\n",
    "    return np.sqrt(x**2+z**2) #denote powers not by \"^\" but by \"**\"\n",
    "\n",
    "print (norm(1,2))"
   ]
  },
  {
   "cell_type": "code",
   "execution_count": 28,
   "metadata": {},
   "outputs": [
    {
     "data": {
      "text/plain": [
       "[<matplotlib.lines.Line2D at 0x7fb4235c77b8>]"
      ]
     },
     "execution_count": 28,
     "metadata": {},
     "output_type": "execute_result"
    },
    {
     "data": {
      "image/png": "[encoded data removed]",
      "text/plain": [
       "<Figure size 432x288 with 1 Axes>"
      ]
     },
     "metadata": {},
     "output_type": "display_data"
    }
   ],
   "source": [
    "#Here is an example using matplotlib\n",
    "%matplotlib inline \n",
    "#shows plots\n",
    "\n",
    "x=np.arange(0,50,0.001)\n",
    "y=3*x**3\n",
    "\n",
    "plt.plot(x,y, label='function', color='green')"
   ]
  },
  {
   "cell_type": "code",
   "execution_count": null,
   "metadata": {
    "collapsed": true
   },
   "outputs": [],
   "source": []
  }
 ],
 "metadata": {
  "kernelspec": {
   "display_name": "Python 3",
   "language": "python",
   "name": "python3"
  },
  "language_info": {
   "codemirror_mode": {
    "name": "ipython",
    "version": 3
   },
   "file_extension": ".py",
   "mimetype": "text/x-python",
   "name": "python",
   "nbconvert_exporter": "python",
   "pygments_lexer": "ipython3",
   "version": "3.6.5"
  }
 },
 "nbformat": 4,
 "nbformat_minor": 2
}
