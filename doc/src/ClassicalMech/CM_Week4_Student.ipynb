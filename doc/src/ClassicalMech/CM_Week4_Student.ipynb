{
 "cells": [
  {
   "cell_type": "markdown",
   "metadata": {},
   "source": [
    "## Classical Mechanics - Week 4"
   ]
  },
  {
   "cell_type": "markdown",
   "metadata": {},
   "source": [
    "### Last Week:\n",
    "- We learned the limitations of Euler's Method\n",
    "- Learned and implemented Velocity Verlet Method for planetary motion\n",
    "- Realized the importance of testing code\n",
    "\n",
    "### This Week:\n",
    "- We will study harmonic oscillations using packages\n",
    "- Build more familiarity with the usage of packages and libraries in coding"
   ]
  },
  {
   "cell_type": "markdown",
   "metadata": {},
   "source": [
    "# Why use packages, libraries, and functions in coding?\n",
    "Another great question! \n",
    "\n",
    "**Simply put:** We could hard code every little algorithm into our program and retype them every line we need them, OR we could call upon the functions from packages and libraries to do these tedious calculations and reduce the possibility of error.\n",
    "\n",
    "We did this last week when we used numpy.linalg.norm() to calculate the distance of the planet to the star.\n",
    "\n",
    "We will be introducing a new package call sympy, very useful for performing equation analysis in Python."
   ]
  },
  {
   "cell_type": "code",
   "execution_count": null,
   "metadata": {},
   "outputs": [],
   "source": [
    "# Let's import packages, as usual\n",
    "import numpy as np\n",
    "import matplotlib.pyplot as plt\n",
    "import sympy as sym\n",
    "sym.init_printing(use_unicode=True)"
   ]
  },
  {
   "cell_type": "markdown",
   "metadata": {},
   "source": [
    "Let's analyze a spring using sympy. It will have mass $m$, spring constant $k$, intial position $x_0$, angular frequency $\\omega_0$, and positive initial velocity of $v_0$.\n",
    "\n",
    "This will serve as our harmonic oscillator. The motion of a harmonic oscillator is described by the equation:\n",
    "\n",
    "$m\\ddot{x} = -kx$\n",
    "\n",
    "This can be rewritten as $x = Acos(\\omega_0 t - \\phi)$, $\\omega_0 = \\sqrt{\\dfrac{k}{m}}$\n",
    "\n",
    "Using sympy we will create this equation and plot for it. "
   ]
  },
  {
   "cell_type": "code",
   "execution_count": null,
   "metadata": {},
   "outputs": [],
   "source": [
    "# First we must declare and define our variables. Examine the syntax in this cell then run it\n",
    "A, omega_0, phi, t = sym.symbols('A, omega_0, phi, t')"
   ]
  },
  {
   "cell_type": "code",
   "execution_count": null,
   "metadata": {},
   "outputs": [],
   "source": [
    "# Next we will define our funciton\n",
    "x = A*sym.cos(omega_0*t-phi)\n",
    "x # This line outputs a visual of our eqation x below"
   ]
  },
  {
   "cell_type": "code",
   "execution_count": null,
   "metadata": {},
   "outputs": [],
   "source": [
    "# Now we will set our constants, but leave t alone so we can plot for t, our time\n",
    "x1 = sym.simplify(x.subs({omega_0:sym.pi/4, phi:1, A:2}))\n",
    "x1 # This line outputs a visual of our eqation x1 below"
   ]
  },
  {
   "cell_type": "code",
   "execution_count": null,
   "metadata": {},
   "outputs": [],
   "source": [
    "# Run this cell. What happens as you play around with the constants?\n",
    "sym.plot(x1)"
   ]
  },
  {
   "cell_type": "markdown",
   "metadata": {},
   "source": [
    "## Q1.) How would you compare plotting with sympy versus what we have done so far? Which method do you prefer?"
   ]
  },
  {
   "cell_type": "markdown",
   "metadata": {},
   "source": [
    "&#9989; Double click this cell, erase its content, and put your answer to the above question here."
   ]
  },
  {
   "cell_type": "markdown",
   "metadata": {},
   "source": [
    "#### Now let's plot for underdamped, critical dampling, and overdamped harmonic oscillators.\n",
    "Below are the general equations for these oscillators:\n",
    "\n",
    "- Underdamped, $\\beta < \\omega_0$ : \n",
    "\n",
    "    $x(t) = A e^{-\\beta t}cos(\\omega ' t) + B e^{-\\beta t}sin(\\omega ' t)$ , $\\omega ' = \\sqrt{\\omega_0^2 - \\beta^2}$\n",
    " \n",
    " ___________________________________\n",
    " \n",
    " \n",
    "- Critical Damping, $\\beta = \\omega_0$:\n",
    "\n",
    "    $x(t) = Ae^{-\\beta t} + B t e^{-\\beta t}$\n",
    "\n",
    " ___________________________________\n",
    " \n",
    "- Overdamped, $\\beta > \\omega_0$:\n",
    "\n",
    "    $x(t) = Ae^{-(\\beta + \\sqrt{\\beta^2 - \\omega_0^2})t} + Be^{-(\\beta - \\sqrt{\\beta^2 - \\omega_0^2})t}$\n",
    "    \n",
    " _______________________\n",
    " \n",
    " Using what we have practiced above, plot these different functions. Feel free to try and add grids, titles, and labels to these graphs. (Google/Bing/DuckDuckGo or any other search engine of your preference is your friend in finding documentation for sympy and how to add these elements with this package). We will give you the code for Underdamped."
   ]
  },
  {
   "cell_type": "code",
   "execution_count": null,
   "metadata": {},
   "outputs": [],
   "source": [
    "# Put your code for graphing Underdamped here\n",
    "A, B, beta, omega, t = sym.symbols('A, B, beta, omega, t')\n",
    "x = A*sym.cos(omega*t) + B*sym.exp(-beta*t)*sym.sin(omega*t)\n",
    "x1 = sym.simplify(x.subs({omega:3*sym.pi/4,beta:0.5, A:1, B:10}))\n",
    "sym.plot(x1,title='Underdamped Oscillation',xlabel='time (t)',ylabel='Position')"
   ]
  },
  {
   "cell_type": "code",
   "execution_count": null,
   "metadata": {},
   "outputs": [],
   "source": [
    "# Put your code for graphing Critical here\n"
   ]
  },
  {
   "cell_type": "code",
   "execution_count": null,
   "metadata": {},
   "outputs": [],
   "source": [
    "# Put your code for graphing Overdamped here\n"
   ]
  },
  {
   "cell_type": "markdown",
   "metadata": {},
   "source": [
    "## Q2.) How would you compare the 3 different oscillators?"
   ]
  },
  {
   "cell_type": "markdown",
   "metadata": {},
   "source": [
    "&#9989; Double click this cell, erase its content, and put your answer to the above question here.\n",
    "\n",
    "####### Answer #######\n",
    "\n",
    "Underdamped: Amplititude decreases over time\n",
    "\n",
    "Critical Damping: Immedieatly dies\n",
    "\n",
    "Overdamped: Motion dies slowly while B > A. Faster while A > B.\n",
    "####### Answer #######"
   ]
  },
  {
   "cell_type": "markdown",
   "metadata": {},
   "source": [
    "## Q3.) When is the previous methods useful and when this this method useful?"
   ]
  },
  {
   "cell_type": "markdown",
   "metadata": {},
   "source": [
    "&#9989; Double click this cell, erase its content, and put your answer to the above question here."
   ]
  },
  {
   "cell_type": "markdown",
   "metadata": {},
   "source": [
    "# Notebook Wrap-up. \n",
    "Run the cell below and copy-paste your answers into their corresponding cells."
   ]
  },
  {
   "cell_type": "code",
   "execution_count": null,
   "metadata": {},
   "outputs": [],
   "source": [
    "from IPython.display import HTML\n",
    "HTML(\n",
    "\"\"\"\n",
    "<iframe \n",
    "\tsrc=\"https://goo.gl/forms/2Ax1XFtWZhjJOHym2\" \n",
    "\twidth=\"100%\" \n",
    "\theight=\"1200px\" \n",
    "\tframeborder=\"0\" \n",
    "\tmarginheight=\"0\" \n",
    "\tmarginwidth=\"0\">\n",
    "\tLoading...\n",
    "</iframe>\n",
    "\"\"\"\n",
    ")"
   ]
  },
  {
   "cell_type": "markdown",
   "metadata": {},
   "source": [
    "# Congrulations! You are done with this week's notebook!\n",
    "Feel free to play around with what you have learned so far, review this notebook, or whatever. I can't really control you or what you do, the world is your oyster."
   ]
  }
 ],
 "metadata": {
  "kernelspec": {
   "display_name": "Python 3",
   "language": "python",
   "name": "python3"
  },
  "language_info": {
   "codemirror_mode": {
    "name": "ipython",
    "version": 3
   },
   "file_extension": ".py",
   "mimetype": "text/x-python",
   "name": "python",
   "nbconvert_exporter": "python",
   "pygments_lexer": "ipython3",
   "version": "3.6.5"
  }
 },
 "nbformat": 4,
 "nbformat_minor": 2
}
