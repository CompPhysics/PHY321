{
 "cells": [
  {
   "cell_type": "markdown",
   "metadata": {},
   "source": [
    "### Classical Mechanics - Week 3"
   ]
  },
  {
   "cell_type": "markdown",
   "metadata": {},
   "source": [
    "### Last Week:\n",
    "- We learned how to implement Euler's Method\n",
    "- Solved for the motion of a particle factoring in a drag coefficient\n",
    "- Compared the computational analysis of a particle versus it's expected path\n",
    "\n",
    "### This Week:\n",
    "- We will build around these concepts further with momentum\n",
    "- Start implementing tests for our code (it's not as tedious as it sounds!)\n",
    "\n",
    "#### Let's begin with a simple planetary problem"
   ]
  },
  {
   "cell_type": "markdown",
   "metadata": {},
   "source": [
    "Suppose we have a planetary system in 2D that consists of a star with nearly the same properties of our own Sun and one planet with nearly the same properties of our Earth. \n",
    "\n",
    "##### How do we model this system?\n",
    "Well that's a great question! We can use simple computational analysis with classical equations we are all familiar with. Let's begin by looking at one of the most essential equations of Physics, the force equation:\n",
    "\n",
    "$F = G\\dfrac{Mm}{r^2}$\n",
    "\n",
    "Starting with just this simple let's try to use Euler's method from last week to model our planetary motion."
   ]
  },
  {
   "cell_type": "code",
   "execution_count": 1,
   "metadata": {},
   "outputs": [],
   "source": [
    "# Let's begin by importing our basic packages\n",
    "import numpy as np\n",
    "import matplotlib.pyplot as plt\n",
    "%matplotlib inline"
   ]
  },
  {
   "cell_type": "markdown",
   "metadata": {},
   "source": [
    "# Pause and think:\n",
    "The Earth-Sun distance, $r$, is about $1.5*10^8 km$, while the Earth mass, $m$, and Sun mass, $M$, are about $6*10^{24} kg$ and $2*10^{30} kg$ respectively. Those are huge numbers to compute for and will take up much computational time, especially to simulate the distance traveled by our planet every time step!\n",
    "\n",
    "We solve these issues in scientific research by scaling our values and then performing further operations to make our units dimensionless. Here we will scale $r$ into Astronomical Units, $AU$, giving us: \n",
    "\n",
    "$1.5*10^8 km = 1 AU = r$.\n",
    "\n",
    "Through inspection of the force equation we find that $v^2r = GM_s$, which will then give us acclerations: \n",
    "\n",
    "$a_x = \\dfrac{-4{\\pi^2}x}{r^3}$, $a_y = \\dfrac{-4{\\pi^2}y}{r^3}$"
   ]
  },
  {
   "cell_type": "markdown",
   "metadata": {},
   "source": [
    "Let's begin our planet at position $(1,0)$ to keep things simple. By inspection we know that the initial velocity vector would then be $\\vec{v_i} = (0,2\\pi)$. \n",
    "\n",
    "NOW we can apply what we learned last week about Euler's Method to simluate this problem!"
   ]
  },
  {
   "cell_type": "code",
   "execution_count": 2,
   "metadata": {},
   "outputs": [
    {
     "ename": "SyntaxError",
     "evalue": "invalid syntax (<ipython-input-2-a70c8ffd1c66>, line 7)",
     "output_type": "error",
     "traceback": [
      "\u001b[0;36m  File \u001b[0;32m\"<ipython-input-2-a70c8ffd1c66>\"\u001b[0;36m, line \u001b[0;32m7\u001b[0m\n\u001b[0;31m    x_i =\u001b[0m\n\u001b[0m          ^\u001b[0m\n\u001b[0;31mSyntaxError\u001b[0m\u001b[0;31m:\u001b[0m invalid syntax\n"
     ]
    }
   ],
   "source": [
    "# Now let's initialize the values we do know. Simply fill out the missing values as we discussed above\n",
    "from numpy import pi\n",
    "from math import sqrt\n",
    "r = 1 # The Earth is 1 AU away from the Sun\n",
    "\n",
    "## Look at our vector and position notations. What values should go in the blank spaces?\n",
    "x_i = \n",
    "y_i = \n",
    "vx_i = \n",
    "vy_i = \n",
    "\n",
    "vi = [vx_i,vy_i]\n",
    "pos_i = [x_i, y_i]"
   ]
  },
  {
   "cell_type": "markdown",
   "metadata": {},
   "source": [
    "Because we made our variables dimensionless, each time integer in our variable (1, 2, 3,...) is now one Earth Year, or about 365.25 days."
   ]
  },
  {
   "cell_type": "code",
   "execution_count": null,
   "metadata": {},
   "outputs": [],
   "source": [
    "# Next, let's decide on our time to analyze, t - tf, and number of time steps, N, to decide on time step size, h.\n",
    "t = 0\n",
    "tf = 1 \n",
    "N = 1000\n",
    "h = (tf - t)/N\n",
    "# Now we will initialize our array\n",
    "v = np.zeros((N,2))\n",
    "pos = np.zeros((N,2))\n",
    "v[0] = vi\n",
    "pos[0] = pos_i"
   ]
  },
  {
   "cell_type": "code",
   "execution_count": null,
   "metadata": {},
   "outputs": [],
   "source": [
    "# Let's simulate our motion now using Euler's method!\n",
    "# We will be using a for-loop for this\n",
    "for i in range(0,N-1):\n",
    "    pos[i+1] = pos[i] + h*v[i]\n",
    "    v[i+1] = v[i] - h*4*pi**2*pos[i]/sqrt(pos[i,0]**2+pos[i,1]**2)**3"
   ]
  },
  {
   "cell_type": "code",
   "execution_count": null,
   "metadata": {},
   "outputs": [],
   "source": [
    "np.linalg.norm(pos[3])"
   ]
  },
  {
   "cell_type": "code",
   "execution_count": null,
   "metadata": {},
   "outputs": [],
   "source": [
    "# Run this cell to plot the calculation position for 1 year\n",
    "plt.plot(pos[:,0],pos[:,1])"
   ]
  },
  {
   "cell_type": "markdown",
   "metadata": {},
   "source": [
    "# Q1.) What do you notice about our plot after 1 simulated Earth year?"
   ]
  },
  {
   "cell_type": "markdown",
   "metadata": {},
   "source": [
    "✅ Double click this cell, erase its content, and put your answer to the above question here.\n"
   ]
  },
  {
   "cell_type": "markdown",
   "metadata": {},
   "source": [
    "### The plot seems a bit strange, doesn't it? Let's create a function to analyze Euler's Mehtod a bit more. \n",
    "\n",
    "We are missing some steps in the funciton. Look at the previous cells, determine what is missing, and copy and past them into the correct place within the steps."
   ]
  },
  {
   "cell_type": "code",
   "execution_count": null,
   "metadata": {},
   "outputs": [],
   "source": [
    "def EulerPlanet(tf,N):\n",
    "    ## initalized variables should go here\n",
    "    \n",
    "    ## End of initalized variables\n",
    "    \n",
    "    h = (tf)/N\n",
    "    \n",
    "    v = np.zeros((N,2))\n",
    "    pos = np.zeros((N,2))\n",
    "    v[0] = [vx_i,vy_i]\n",
    "    pos[0] = [x_i, y_i]\n",
    "    \n",
    "    ## For-loop should go here\n",
    "\n",
    "    ## End of for-loop\n",
    "    \n",
    "    plt.grid()\n",
    "    plt.plot(pos[:,0],pos[:,1])\n",
    "    \n"
   ]
  },
  {
   "cell_type": "markdown",
   "metadata": {},
   "source": [
    "Once you have finished setting the algorithm, use the next three cells to plot the planetary movement for t = 2, 3, and 4 with N = 1000 for each one."
   ]
  },
  {
   "cell_type": "code",
   "execution_count": null,
   "metadata": {},
   "outputs": [],
   "source": [
    "EulerPlanet(2,1000)"
   ]
  },
  {
   "cell_type": "code",
   "execution_count": null,
   "metadata": {},
   "outputs": [],
   "source": [
    "EulerPlanet(3,1000)"
   ]
  },
  {
   "cell_type": "code",
   "execution_count": null,
   "metadata": {},
   "outputs": [],
   "source": [
    "EulerPlanet(4,1000)"
   ]
  },
  {
   "cell_type": "markdown",
   "metadata": {},
   "source": [
    "Seems like something isn't right. Below we modified our Euler function to see what is happening to our simulated planet's momentum. Read the comments to see where and how we are keeping track of the momentum."
   ]
  },
  {
   "cell_type": "code",
   "execution_count": null,
   "metadata": {},
   "outputs": [],
   "source": [
    "def EulerPlanet_mom(tf,N):\n",
    "    r = 1\n",
    "    x_i = 1\n",
    "    y_i = 0\n",
    "    vx_i = 0\n",
    "    vy_i = 2*pi\n",
    "    \n",
    "    h = (tf)/N\n",
    "    \n",
    "    v = np.zeros((N,2))\n",
    "    pos = np.zeros((N,2))\n",
    "    v[0] = [vx_i,vy_i]\n",
    "    pos[0] = [x_i, y_i]\n",
    "    \n",
    "    ## We simply added a method of tracking momentum in this code\n",
    "    m = 6*10**24 #kg; mass of the Earth like planet\n",
    "    p = np.zeros(N)\n",
    "    p[0] = np.linalg.norm(v[0])*m\n",
    "    \n",
    "    for i in range(0,N-1):\n",
    "        pos[i+1] = pos[i] + h*v[i]\n",
    "        v[i+1] = v[i] - h*4*pi**2*pos[i]/sqrt(pos[i,0]**2+pos[i,1]**2)**3\n",
    "        p[i+1] = np.linalg.norm(v[i+1])*m ## Calculated momentum\n",
    "    plt.grid()\n",
    "    plt.plot(pos[:,0],pos[:,1])\n",
    "    \n",
    "    ## Prints out momentum ratio, min, and max\n",
    "    print(\"Ratio of max and min momentum: \", min(p)/max(p))\n",
    "    print(\"p_min: \", min(p))\n",
    "    print(\"p_max: \", max(p))"
   ]
  },
  {
   "cell_type": "markdown",
   "metadata": {},
   "source": [
    "Run the cell below to use the modified function to see the variance in momentum. "
   ]
  },
  {
   "cell_type": "code",
   "execution_count": null,
   "metadata": {},
   "outputs": [],
   "source": [
    "EulerPlanet_mom(10,10000)"
   ]
  },
  {
   "cell_type": "markdown",
   "metadata": {},
   "source": [
    "# Q2.) Given t=10 & N = 10000, what is the ratio of our maximum and minimm momentum from Euler's Method?"
   ]
  },
  {
   "cell_type": "markdown",
   "metadata": {},
   "source": [
    "✅ Double click this cell, erase its content, and put your answer to the above question here."
   ]
  },
  {
   "cell_type": "markdown",
   "metadata": {},
   "source": [
    "### What does this tell us?\n",
    "\n",
    "Although Euler's method is a useful tool for approximating motion, we need an extremely low number of step sizes to stay accurate. And even so, we can see that Euler's method does NOT conserve momentum. \n",
    "\n",
    "To solve this issue, we will now implement the Velocity Verlet Method! This should conserve momentum and provide a more stable planetary simulation. "
   ]
  },
  {
   "cell_type": "markdown",
   "metadata": {},
   "source": [
    "# Velocity Verlet Method:\n",
    "\n",
    "Our updates will now also include second order differential equation instead of just first order like Euler's Method used. The algorithm will now have the following outline (notice the similarities and differences between the old and new method):\n",
    "\n",
    "- $x_{i+1} = x_i + hv_i + \\dfrac{h^2}{2}a_{xi}$,  \n",
    "\n",
    "- $y_{i+1} = x_i + hv_i + \\dfrac{h^2}{2}a_{yi}$                \n",
    "\n",
    "- $v_{i+1} = v_i + ha_i + \\dfrac{h^2}{2}a'_i$\n",
    "\n",
    "We can approximate $ha'= a_{i+1} - a_i$, giving us:\n",
    "\n",
    "- $v_{i+1} = v_i + ha_i + \\dfrac{h}{2}(a_{i+1} - a_i)$\n",
    "\n",
    "We will now create an acclreation array and updated it through:\n",
    "\n",
    "- $a_{x_{i+1}} = \\dfrac{-4{\\pi^2}x_{i+1}}{r^3}$, $a_{y_{i+1}} = \\dfrac{-4{\\pi^2}y_{i+1}}{r^3}$"
   ]
  },
  {
   "cell_type": "markdown",
   "metadata": {},
   "source": [
    "We will once again start our planet at position (1,0). By inspection we know that the $\\vec{v_i} = (0,2\\pi)$ and $\\vec{a_i} = (\\dfrac{-4\\pi}{r^3},0)$. To make things easier for updating, use \"numpy.linalg.norm(pos[i+1])\" to find r."
   ]
  },
  {
   "cell_type": "code",
   "execution_count": null,
   "metadata": {},
   "outputs": [],
   "source": [
    "## Using the what we have done so far and outlined above, finish the Verlet function\n",
    "## We already give you a way of keeping track of momentum\n",
    "\n",
    "def VerletPlanetary(tf,N):\n",
    "    r = 1 # The Earth is 1 AU away from the Sun\n",
    "    x_i = 1\n",
    "    y_i = 0\n",
    "    \n",
    "    ## Look at our discussed vectors to determine initial acclerations and velocities\n",
    "    vx_i = \n",
    "    vy_i = \n",
    "    ax_i = \n",
    "    ay_i = \n",
    "    \n",
    "    \n",
    "    h = (tf)/N\n",
    "    \n",
    "    v = np.zeros((N,2))\n",
    "    pos = np.zeros((N,2))\n",
    "    a = np.zeros((N,2))\n",
    "    p = np.zeros(N)\n",
    "    v[0] = [vx_i,vy_i]\n",
    "    pos[0] = [x_i, y_i]\n",
    "    a[0] = [ax_i,ay_i]\n",
    "    \n",
    "    m = 6*10**24 #kg; mass of the Earth like planet\n",
    "    p[0] = np.linalg.norm(v[0])*m\n",
    "    for i in range(0,N-1):\n",
    "        pos[i+1] = # Delete this comment and insert the algorithm for updating position\n",
    "        a[i+1] = # Delete this comment and insert the algorithm for updating our accleration\n",
    "        v[i+1] = # Delete this comment and insert the algorithm for updating our velocity\n",
    "        p[i+1] = np.linalg.norm(v[i+1])*m\n",
    "    \n",
    "    plt.grid()\n",
    "    plt.plot(pos[:,0],pos[:,1])\n",
    "    print(\"Ratio of max and min momentum: \", min(p)/max(p))\n",
    "    print(\"p_min: \", min(p))\n",
    "    print(\"p_max: \", max(p))"
   ]
  },
  {
   "cell_type": "code",
   "execution_count": null,
   "metadata": {},
   "outputs": [],
   "source": [
    "VerletPlanetary(10,1000)"
   ]
  },
  {
   "cell_type": "markdown",
   "metadata": {},
   "source": [
    "# Q3.) Compare the momentum and planetary movement over time with the same variables on the Euler and Verlet implementations."
   ]
  },
  {
   "cell_type": "markdown",
   "metadata": {},
   "source": [
    "&#9989; Double click this cell, erase its content, and put your answer to the above question here."
   ]
  },
  {
   "cell_type": "markdown",
   "metadata": {},
   "source": [
    "# Notebook Wrap-up. \n",
    "Run the cell below and copy-paste your answers into their corresponding cells."
   ]
  },
  {
   "cell_type": "code",
   "execution_count": null,
   "metadata": {},
   "outputs": [],
   "source": [
    "from IPython.display import HTML\n",
    "HTML(\n",
    "\"\"\"\n",
    "<iframe \n",
    "\tsrc=\"https://goo.gl/forms/2Ax1XFtWZhjJOHym2\" \n",
    "\twidth=\"100%\" \n",
    "\theight=\"1200px\" \n",
    "\tframeborder=\"0\" \n",
    "\tmarginheight=\"0\" \n",
    "\tmarginwidth=\"0\">\n",
    "\tLoading...\n",
    "</iframe>\n",
    "\"\"\"\n",
    ")"
   ]
  },
  {
   "cell_type": "markdown",
   "metadata": {},
   "source": [
    "# Good work! You've reached the end of another notebook!\n",
    "\n",
    "We covered quite a bit with this week's notebook, so it's okay if you don't get everything at once. Feel free to play around with the code we've created to get a better grasp of how coding and Physics can be connected."
   ]
  }
 ],
 "metadata": {
  "kernelspec": {
   "display_name": "Python 3",
   "language": "python",
   "name": "python3"
  },
  "language_info": {
   "codemirror_mode": {
    "name": "ipython",
    "version": 3
   },
   "file_extension": ".py",
   "mimetype": "text/x-python",
   "name": "python",
   "nbconvert_exporter": "python",
   "pygments_lexer": "ipython3",
   "version": "3.6.5"
  }
 },
 "nbformat": 4,
 "nbformat_minor": 2
}
