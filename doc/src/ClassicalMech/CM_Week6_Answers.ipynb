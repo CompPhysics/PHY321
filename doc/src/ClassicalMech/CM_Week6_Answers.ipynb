{
 "cells": [
  {
   "cell_type": "markdown",
   "metadata": {},
   "source": [
    " ## Classical Mechanics - Week 6 Answers"
   ]
  },
  {
   "cell_type": "markdown",
   "metadata": {},
   "source": [
    "### Last Week:\n",
    "\n",
    "- Learned how to graph in 3D\n",
    "- Analzed graphs that model potential $U$\n",
    "- Used sympy and matplotlib to 3D graph these models\n",
    "\n",
    "### This Week:\n",
    "- Gain more practice with functions\n",
    "- Learn about Simpson's Rule\n",
    "- Further explore numerical methods\n",
    "\n",
    "Do you smell that? It's midterm season, so let's take it easy this week and get some more familiarity with funcitons and the numerical analysis. More specifically: we are going to see the power of **Simpson's Rule**."
   ]
  },
  {
   "cell_type": "code",
   "execution_count": 2,
   "metadata": {},
   "outputs": [],
   "source": [
    "# As usual, we will need packages\n",
    "import numpy as np\n",
    "import matplotlib.pyplot as plt\n",
    "import sympy as sym\n",
    "sym.init_printing(use_unicode=True) "
   ]
  },
  {
   "cell_type": "markdown",
   "metadata": {},
   "source": [
    "# Simpson's Rule\n",
    "\n",
    "This is a method for numerical integration helping to approximate definite integrals. It goes as follows:\n",
    "\n",
    "$\\int_a^b f(x) \\ dx \\approx \\dfrac{\\Delta x}{3}(f(x_0)+4f(x_1)+2f(x_2)+4f(x_3)+2f(x_4)+{...}+4f(x_{n-1})+f(x_n))$,\n",
    "\n",
    "where $\\Delta x = \\dfrac{b-a}{n}$ is our step sizes and $n$ is the number of steps we will use to perform the approximation.\n",
    "\n",
    "Below is the code for the Simpson's method. **Please read the comments to understand how the formula above translates to code.**\n",
    "\n"
   ]
  },
  {
   "cell_type": "code",
   "execution_count": 16,
   "metadata": {},
   "outputs": [],
   "source": [
    "## Let's implement Simpson's method!\n",
    "def Simpsons(equation,a,b,n): \n",
    "    ## \"equation\" is the equation we want to evaluate. \n",
    "    ## \"a\" and \"b\" are our initial and final positions we want to integrate over\n",
    "    ## \"n\" is the number of steps we want to take \n",
    "    \n",
    "    delx = (b-a)/n ## Calculating our steps sizes\n",
    "    approximation = equation(a) ## We Begin by adding the first position, this is f(x_0)\n",
    "    a += delx ## Then we add our step size to our \"a\" to go on to x_1\n",
    "    itteration = 0 ## We will use an itteration tracker to know when to multiply by 4 or 2 in our steps\n",
    "    \n",
    "    while a < b: ## We will go from x_1 to x_(n-1)\n",
    "        if itteration%2 == 0: ## If \"itteration\" is even, then we will multiply f(x_n) by 4\n",
    "            approximation += 4*equation(a)\n",
    "        else: ## If the \"itteration\" is odd, then we will multiply f(x_n) by 2\n",
    "            approximation += 2*equation(a)\n",
    "        \n",
    "        a += delx ## We will then add the step size to our \"a\"\n",
    "        itteration += 1 ## Adding to our \"itteration\" so we can utilize the 4-2 switches from Simpson's Method\n",
    "    \n",
    "    approximation += equation(b) ## Now we will add f(x_n) to our summation \n",
    "    approximation = (delx*approximation)/3 ## Finally, we will be dividing everything by 3 and multiplying by step size\n",
    "    \n",
    "    return approximation ## Returns our approximation"
   ]
  },
  {
   "cell_type": "markdown",
   "metadata": {},
   "source": [
    "# Q1.) What lines of the above code deal with the \"$4f(x_1) + 2f(x_2) + ...$\" section of Simpson's Rule? i.e. The section where the function is multiplied by either 4 or 2 depending on the itteration.\n",
    "If you click to the left of the code-cell, but still within page boundary, and press \"l\" you can toggle lines on and off."
   ]
  },
  {
   "cell_type": "markdown",
   "metadata": {},
   "source": [
    "&#9989; Double click this cell, erase its content, and put your answer to the above question here.\n",
    "\n",
    "####### Possible Answer #######\n",
    "\n",
    "Lines 12-16\n",
    "\n",
    "####### Possible Answer #######"
   ]
  },
  {
   "cell_type": "markdown",
   "metadata": {},
   "source": [
    "# Q2.) How does the function decide when to multiply by either 4 or 2?"
   ]
  },
  {
   "cell_type": "markdown",
   "metadata": {},
   "source": [
    "&#9989; Double click this cell, erase its content, and put your answer to the above question here.\n",
    "\n",
    "####### Possible Answer #######\n",
    "\n",
    "It sets up an \"itteration\" variable, that when even will multiply by 4 and when odd will multiply by 2.\n",
    "\n",
    "####### Possible Answer #######"
   ]
  },
  {
   "cell_type": "markdown",
   "metadata": {},
   "source": [
    "--------------------\n",
    "#### Now let's test our Simpson's Method function. Below is a function for the equation $f(x) = x^2$. \n",
    "\n",
    "The integral for this is $\\int x^2 \\ dx = \\dfrac{x^3}{3}$. We will plug the function itself into Simpsons from $x=0$ to $x=3$. Play around with the step numbers to see when we can achieve a reasonable accuracy. Does larger $n$ always provide a more accurate answer?"
   ]
  },
  {
   "cell_type": "code",
   "execution_count": 74,
   "metadata": {},
   "outputs": [],
   "source": [
    "def F(x):\n",
    "    return x**2"
   ]
  },
  {
   "cell_type": "code",
   "execution_count": 75,
   "metadata": {},
   "outputs": [
    {
     "data": {
      "image/png": "[encoded data removed]",
      "text/latex": [
       "$$9.00000000000059$$"
      ],
      "text/plain": [
       "9.00000000000059"
      ]
     },
     "execution_count": 75,
     "metadata": {},
     "output_type": "execute_result"
    }
   ],
   "source": [
    "I = Simpsons(F,0,3,10000)\n",
    "I"
   ]
  },
  {
   "cell_type": "markdown",
   "metadata": {},
   "source": [
    "Below is a tester that will use a threshold to decide if our estimate is satisfactory. Feel free to change the threshold as you see fit."
   ]
  },
  {
   "cell_type": "code",
   "execution_count": 72,
   "metadata": {},
   "outputs": [],
   "source": [
    "def isclose(estimate, actual, threshold=.0000001):\n",
    "    return abs(estimate-actual) <= threshold"
   ]
  },
  {
   "cell_type": "code",
   "execution_count": 73,
   "metadata": {},
   "outputs": [
    {
     "data": {
      "text/plain": [
       "True"
      ]
     },
     "execution_count": 73,
     "metadata": {},
     "output_type": "execute_result"
    }
   ],
   "source": [
    "isclose(I,9)"
   ]
  },
  {
   "cell_type": "markdown",
   "metadata": {},
   "source": [
    "# But why use numerical analysis instead of just doing the integration?\n",
    "Another great question! \n",
    "\n",
    "Let's start by finding the definite integral of $f(x) = x^2$ from 0 to 3 using sympy. Below we have the integral function set up, but not the equation. Complete the code by defining $f(x) = x^2$"
   ]
  },
  {
   "cell_type": "code",
   "execution_count": 51,
   "metadata": {},
   "outputs": [
    {
     "data": {
      "image/png": "[encoded data removed]",
      "text/latex": [
       "$$\\frac{x^{3}}{3}$$"
      ],
      "text/plain": [
       " 3\n",
       "x \n",
       "──\n",
       "3 "
      ]
     },
     "execution_count": 51,
     "metadata": {},
     "output_type": "execute_result"
    }
   ],
   "source": [
    "x = sym.symbols('x') ## Sets our x variable as 'x' for sympy\n",
    "f = x**2 ## Sets up a function for sympy\n",
    "sym.integrate(f,x) ## Integrates using sympy"
   ]
  },
  {
   "cell_type": "markdown",
   "metadata": {},
   "source": [
    "Now let's use sympy to take the integral from 0 to 3!"
   ]
  },
  {
   "cell_type": "code",
   "execution_count": 52,
   "metadata": {},
   "outputs": [
    {
     "data": {
      "image/png": "[encoded data removed]",
      "text/latex": [
       "$$9$$"
      ],
      "text/plain": [
       "9"
      ]
     },
     "execution_count": 52,
     "metadata": {},
     "output_type": "execute_result"
    }
   ],
   "source": [
    "sym.integrate(f,(x,(0,3))) ## Same steps as above, except now we make our x go from 0-3. Notice the parentheses placement."
   ]
  },
  {
   "cell_type": "markdown",
   "metadata": {},
   "source": [
    "Now do the same thing as above, but with the function $g(x) =  e^{x^2}$. Find the integral then the definite integral from 0 to 3.\n",
    "\n",
    "What do you get?"
   ]
  },
  {
   "cell_type": "code",
   "execution_count": 56,
   "metadata": {},
   "outputs": [
    {
     "data": {
      "image/png": "[encoded data removed]",
      "text/latex": [
       "$$\\frac{\\sqrt{\\pi}}{2} \\operatorname{erfi}{\\left (3 \\right )}$$"
      ],
      "text/plain": [
       "√π⋅erfi(3)\n",
       "──────────\n",
       "    2     "
      ]
     },
     "execution_count": 56,
     "metadata": {},
     "output_type": "execute_result"
    }
   ],
   "source": [
    "## One possible way of implementing the integral\n",
    "g = sym.exp(x**2)\n",
    "sym.integrate(g,(x,(0,3)))"
   ]
  },
  {
   "cell_type": "markdown",
   "metadata": {},
   "source": [
    "# Q3.) What answer did sympy give you for the integral of $e^{x^2}$?"
   ]
  },
  {
   "cell_type": "markdown",
   "metadata": {},
   "source": [
    "&#9989; Double click this cell, erase its content, and put your answer to the above question here.\n",
    "\n",
    "####### Possible Answers #######\n",
    "\n",
    "- $\\dfrac{\\sqrt{\\pi}}{2}erif(3)$\n",
    "\n",
    "- Error\n",
    "\n",
    "- Doesn't look right\n",
    "\n",
    "####### Possible Answers #######"
   ]
  },
  {
   "cell_type": "markdown",
   "metadata": {},
   "source": [
    "As we can see, the equation that is the integral of $g(x) =  e^{x^2}$ cannot be found even by computers! However, this does not mean we cannot find a strong approximation of the definite integral from 0 to 3! \n",
    "\n",
    "This is where numerical analysis comes in through Simpson's method. Try creating a new g function **NOT** using sympy and plug it into our Simpson's funciton."
   ]
  },
  {
   "cell_type": "code",
   "execution_count": 71,
   "metadata": {},
   "outputs": [
    {
     "data": {
      "image/png": "[encoded data removed]",
      "text/latex": [
       "$$1444.545123811523$$"
      ],
      "text/plain": [
       "1444.545123811523"
      ]
     },
     "execution_count": 71,
     "metadata": {},
     "output_type": "execute_result"
    }
   ],
   "source": [
    "def G(x):\n",
    "    return np.exp(x**2)\n",
    "I2 = Simpsons(G,0,3,1000)\n",
    "I2"
   ]
  },
  {
   "cell_type": "markdown",
   "metadata": {},
   "source": [
    "# Q4.) What is an approximation of $e^{x^2}$ definite of integral from 0 to 3? "
   ]
  },
  {
   "cell_type": "markdown",
   "metadata": {},
   "source": [
    "&#9989; Double click this cell, erase its content, and put your answer to the above question here.\n",
    "\n",
    "####### Possible Answer #######\n",
    "\n",
    "1444.5\n",
    "\n",
    "####### Possible Answer #######"
   ]
  },
  {
   "cell_type": "markdown",
   "metadata": {},
   "source": [
    "# Q5.) How many steps, n, did you use to get this approximation?"
   ]
  },
  {
   "cell_type": "markdown",
   "metadata": {},
   "source": [
    "&#9989; Double click this cell, erase its content, and put your answer to the above question here.\n",
    "\n",
    "####### Possible Answer #######\n",
    "\n",
    "1000\n",
    "\n",
    "####### Possible Answer #######"
   ]
  },
  {
   "cell_type": "markdown",
   "metadata": {},
   "source": [
    "# Notebook Wrap-up. \n",
    "Run the cell below and copy-paste your answers into their corresponding cells."
   ]
  },
  {
   "cell_type": "code",
   "execution_count": null,
   "metadata": {},
   "outputs": [],
   "source": [
    "from IPython.display import HTML\n",
    "HTML(\n",
    "\"\"\"\n",
    "<iframe \n",
    "\tsrc=\"https://goo.gl/forms/2Ax1XFtWZhjJOHym2\" \n",
    "\twidth=\"100%\" \n",
    "\theight=\"1200px\" \n",
    "\tframeborder=\"0\" \n",
    "\tmarginheight=\"0\" \n",
    "\tmarginwidth=\"0\">\n",
    "\tLoading...\n",
    "</iframe>\n",
    "\"\"\"\n",
    ")"
   ]
  },
  {
   "cell_type": "markdown",
   "metadata": {},
   "source": [
    "# You've reached the end! Good job!\n",
    "\n",
    "Hopefully you've seen the potential of why numerical analysis is important, even with the existance of derivative and integral methods. Feel free to play around with all the code and skills you've accumulated thus far, or whatever you want. It's a free world, to a degree, and I can't really control what you want to do with this information."
   ]
  }
 ],
 "metadata": {
  "kernelspec": {
   "display_name": "Python 3",
   "language": "python",
   "name": "python3"
  },
  "language_info": {
   "codemirror_mode": {
    "name": "ipython",
    "version": 3
   },
   "file_extension": ".py",
   "mimetype": "text/x-python",
   "name": "python",
   "nbconvert_exporter": "python",
   "pygments_lexer": "ipython3",
   "version": "3.6.5"
  }
 },
 "nbformat": 4,
 "nbformat_minor": 2
}
