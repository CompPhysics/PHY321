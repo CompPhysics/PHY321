{
 "cells": [
  {
   "cell_type": "markdown",
   "metadata": {},
   "source": [
    "## Classical Mechanics - Week 2 Answers"
   ]
  },
  {
   "cell_type": "code",
   "execution_count": 1,
   "metadata": {},
   "outputs": [],
   "source": [
    "## As usual, here are some useful packages we will be using. Feel free to use more and experiemnt as you wish.\n",
    "\n",
    "import numpy as np\n",
    "import matplotlib.pyplot as plt\n",
    "%matplotlib inline"
   ]
  },
  {
   "cell_type": "markdown",
   "metadata": {},
   "source": [
    "##### We previously stored our x and y variables separately. \n",
    "However, this week we will begin storing these information within vectors, implemented through arrays in coding.\n",
    "\n",
    "\n",
    "Let's get some practice with this. The cell below creates two arrays, one containnig the times to be analyzed and the other containing empty arrays containing only the x and y components once ran. Then it will make the initial position to be x = 2 and y = 1. Take a look at the code and comments to get an understanding of what's happening better."
   ]
  },
  {
   "cell_type": "code",
   "execution_count": 2,
   "metadata": {},
   "outputs": [],
   "source": [
    "ff = 4 #length of value to be analyzed\n",
    "dt = .001 # step sizes\n",
    "f = np.arange(0.0,ff,dt) # Creates an evenly spaced time array going from 0 to 3.999, with step sizes .001\n",
    "p = np.zeros((len(f), 2)) # Creates an empty array of [x,y] arrays (our vectors). Array size is same as the one for time.\n",
    "p[0] = [2.0,1.0] # This sets the inital position to be x = 2 and y = 1\n"
   ]
  },
  {
   "cell_type": "markdown",
   "metadata": {},
   "source": [
    "##### Below we are printing specific values in our array to see what's being stored where. The first number in the r[] represents which array itteration we are looking at, while the number after the \",\" represents which listed number in the array itteration we are getting back. Notice how the listings start at 0.\n",
    "Feel free to mess around with this as much as you want. "
   ]
  },
  {
   "cell_type": "code",
   "execution_count": 3,
   "metadata": {},
   "outputs": [
    {
     "name": "stdout",
     "output_type": "stream",
     "text": [
      "[2. 1.]\n",
      "[2. 1.]\n",
      "[0. 0.]\n",
      "2.0\n",
      "1.0\n",
      "[2. 0. 0. ... 0. 0. 0.]\n"
     ]
    }
   ],
   "source": [
    "print(p[0]) # Prints the first array\n",
    "print(p[0,:]) # Same as above, these commands are interchangeable \n",
    "print(p[3999]) # Prints the 4000th array\n",
    "print(p[0,0]) # Prints the first value of the first array\n",
    "print(p[0,1]) # Prints the second value of first array\n",
    "print(p[:,0]) # Prints the first value of all the arrays"
   ]
  },
  {
   "cell_type": "code",
   "execution_count": 4,
   "metadata": {},
   "outputs": [
    {
     "ename": "IndexError",
     "evalue": "index 2 is out of bounds for axis 1 with size 2",
     "output_type": "error",
     "traceback": [
      "\u001b[0;31m---------------------------------------------------------------------------\u001b[0m",
      "\u001b[0;31mIndexError\u001b[0m                                Traceback (most recent call last)",
      "\u001b[0;32m<ipython-input-4-c74f58e5d880>\u001b[0m in \u001b[0;36m<module>\u001b[0;34m()\u001b[0m\n\u001b[1;32m      1\u001b[0m \u001b[0;31m# Try running this cell. Notice how it gives an error since we did not implement a third component into our arrays\u001b[0m\u001b[0;34m\u001b[0m\u001b[0;34m\u001b[0m\u001b[0m\n\u001b[0;32m----> 2\u001b[0;31m \u001b[0mprint\u001b[0m\u001b[0;34m(\u001b[0m\u001b[0mp\u001b[0m\u001b[0;34m[\u001b[0m\u001b[0;34m:\u001b[0m\u001b[0;34m,\u001b[0m\u001b[0;36m2\u001b[0m\u001b[0;34m]\u001b[0m\u001b[0;34m)\u001b[0m\u001b[0;34m\u001b[0m\u001b[0m\n\u001b[0m",
      "\u001b[0;31mIndexError\u001b[0m: index 2 is out of bounds for axis 1 with size 2"
     ]
    }
   ],
   "source": [
    "# Try running this cell. Notice how it gives an error since we did not implement a third component into our arrays\n",
    "print(p[:,2])"
   ]
  },
  {
   "cell_type": "markdown",
   "metadata": {},
   "source": [
    "## In the cell below we want to manipulate the arrays\n",
    "Our goal is to make each vector's x component valued same as their respective vector's position in the itteration and the y value will be twice that value, EXCEPT the first vector we set. \n",
    "\n",
    "i.e. $p[0] = [2,1], p[1] = [1,2], p[2] = [2,4], p[3] = [3,6], ...$\n",
    "\n",
    "#### The skeleton code has already been provided for you, along with hints. Your job is to complete the code, execute it, and then run the checker in the cell below it. \n",
    "We will be using a for loop and an if statement for this.\n",
    "\n",
    "\n",
    "If your code is working the cell with the checker should print \"Success!\" If \"There is an error in your code\" appears, look to see where the error in your code is and re-run the checker cell until you get the success message. If you get stuck on this part, move on and come back when you can. "
   ]
  },
  {
   "cell_type": "code",
   "execution_count": 5,
   "metadata": {},
   "outputs": [],
   "source": [
    "for i in range(1,3999):\n",
    "    p[i] = [i,2*i] # What equation should you put in the x and y components?"
   ]
  },
  {
   "cell_type": "code",
   "execution_count": 6,
   "metadata": {},
   "outputs": [
    {
     "name": "stdout",
     "output_type": "stream",
     "text": [
      "Success!\n"
     ]
    }
   ],
   "source": [
    "# Checker cell to make sure your code is performing correctly\n",
    "c = 0\n",
    "for i in range(0,3999):\n",
    "    if i == 0:\n",
    "        if p[i,0] != 2.0:\n",
    "            c += 1\n",
    "        if p[i,1] != 1.0:\n",
    "            c += 1\n",
    "    else:\n",
    "        if p[i,0] != 1.0*i:\n",
    "            c += 1\n",
    "        if p[i,1] != 2.0*i:\n",
    "            c += 1\n",
    "\n",
    "if c == 0:\n",
    "    print(\"Success!\")\n",
    "else:\n",
    "    print(\"There is an error in your code\")"
   ]
  },
  {
   "cell_type": "markdown",
   "metadata": {},
   "source": [
    "### Last week:\n",
    "we made basic plots of a canonball fired using Physics I equations along with a function. However, this week we will be working with a bit more advanced concepts for the same problem.\n",
    "\n",
    "#### You learned to derive the equations of motions starting from Force in class and how to solve integrations numerically. Now let's use those concepts to analyze such phenomenons.\n",
    "We will also work with air resistance to observe how this affects our motion"
   ]
  },
  {
   "cell_type": "markdown",
   "metadata": {},
   "source": [
    "# As we learned through class / text books\n",
    "#### With air resistance factored in, the accleration is:\n",
    "eq 1a.) $a_x = - \\gamma v_x$                                                                              \n",
    "\n",
    "eq 1b.) $a_y = - \\gamma v_y - g$\n",
    "\n",
    "where $\\gamma$ is the drag coefficient with dimensions $s^{-1}$.\n",
    "\n",
    "#### Performing an integration, we get the velocitiy at time t with air resistance:\n",
    "eq 2a.) $v_{fx}(t) = v_{0x}e^{-\\gamma t}$\n",
    "\n",
    "eq 2b.) $v_{fy}(t) =  \\dfrac{g}{\\gamma}+ (v_{0y} + \\dfrac{g}{\\gamma})e^{-\\gamma t}$\n",
    "\n",
    "\n",
    "\n",
    "\n",
    "# Let's see how the velocity and accleration affect each other when drag is factored in! \n",
    "Like last week, we will fire out theoretical canon with $\\theta = \\dfrac{\\pi}{4}$ and $v_i = 20 m/s$. Now we will add a drag coefficient of $0.1s^{-1}$. Run the cell below to see what the respective x and y acclerations would be immediately after firing the canonball."
   ]
  },
  {
   "cell_type": "code",
   "execution_count": 7,
   "metadata": {},
   "outputs": [
    {
     "name": "stdout",
     "output_type": "stream",
     "text": [
      "ax =  -1.4142135623730951\n",
      "ay =  -11.214213562373097\n"
     ]
    }
   ],
   "source": [
    "vi = 20 #m/s\n",
    "g = 9.8 #m/s^2\n",
    "c = 0.1 #s^-1\n",
    "theta = np.pi/4 #radians\n",
    "vx = vi*np.cos(theta) #m/s\n",
    "vy = vi*np.sin(theta) #m/s\n",
    "\n",
    "#Using eq 1a and 1b to calculate the acclerations with drag factored in \n",
    "ax = -c*vx #m/s^2\n",
    "ay = -c*vy - g #m/s^2\n",
    "\n",
    "print(\"ax = \", ax)\n",
    "print(\"ay = \", ay)"
   ]
  },
  {
   "cell_type": "markdown",
   "metadata": {},
   "source": [
    "Do these calculations make sense to you?\n",
    "\n",
    "## Moving on, another integration gives us the following equations of motion:\n",
    "\n",
    "\n",
    "eq 3a.) $x(t) = \\dfrac{v_{0x}}{\\gamma}(1-e^{-\\gamma t})$\n",
    "\n",
    "eq 3b.) $y(t) = -\\dfrac{gt}{\\gamma} + \\dfrac{v_{0y}+g/\\gamma}{\\gamma}(1-e^{-\\gamma t})$"
   ]
  },
  {
   "cell_type": "markdown",
   "metadata": {},
   "source": [
    "# Now we will introduce [Euler's Method](https://en.wikipedia.org/wiki/Euler_method) to solve for our motion\n",
    "\n",
    "### But first, we need to discuss step size and time steps:\n",
    "Step size $h$ is defined as the difference between any two neighboring values (time steps) we analyze within some range. It can be determined by dividing the interval we are analyzing, which in our case is time $(t)$, by the number of steps we are taking $(N)$. Thus step size $h = \\dfrac{t}{N}$. However, do notice that in the example below we define our range and step sizes, making the equation $N = \\dfrac{t}{h}$ in our case.\n",
    "\n",
    "\n",
    "## Specifics of Euler's Method:\n",
    "With Euler's method we will be updating the velocity $(v[i+1])$ with our previous velocity $(v[i])$ added with the previous accleration multiplied by the time step $(a[i]*dt)$, and the updated position would also follow the same method:\n",
    "\n",
    "\n",
    "#### Performing Euler's Method for this problem we will do the following steps:\n",
    "\n",
    "1.) Define and obtain all initial values, constants, and time to be analyzed with step sizes\n",
    "\n",
    "2.) Calculate the new accleration $a_{i+1}$ using eq 1a-b.) with $v_i$. (Remember to put these values in their respective x and y components)\n",
    "\n",
    "3.) Calculate the velocity using $v_{i+1} = v_{i} + h*a_{i}$\n",
    "\n",
    "4.) Calculate the position using $pos_{i+1} = pos_{i} + h*v_{i}$\n",
    "\n",
    "5.) Repeat steps 2-4 for all time steps within a loop"
   ]
  },
  {
   "cell_type": "markdown",
   "metadata": {},
   "source": [
    "We already provide you with an Euler-implemented code specific to last week's problem factoring in air resistance. Additionally, this time we are going to assume the canon is firing off an infinitely high cliff placed at the origin, allowing us to have any $tf$ we want. Make sure it is following the procedures set by our explanation above and run the cell to see the outcome. "
   ]
  },
  {
   "cell_type": "code",
   "execution_count": 8,
   "metadata": {},
   "outputs": [],
   "source": [
    "# Initial values and constants\n",
    "\n",
    "vi = 20 #m/s\n",
    "g = 9.8 #m/s^2\n",
    "c = 0.1 #s^-1\n",
    "theta = np.pi/4 #radians\n",
    "vx = vi*np.cos(theta) #m/s\n",
    "vy = vi*np.sin(theta) #m/s\n",
    "ax = -c*vx #m/s^2\n",
    "ay = -c*vy - g #m/s^2\n",
    "\n",
    "tf = 3 #The final time\n",
    "dt = .3 # time step size\n",
    "\n",
    "t = np.arange(0.0,tf,dt) # Creates an evenly spaced time array going from 0 to 3, with step sizes .1\n",
    "a = np.zeros((len(t), 2)) # Creates an empty array of [ax, ay] arrays. Storage same as number of steps, N\n",
    "v = np.zeros((len(t), 2)) # Creates an empty array of [vx, vy] arrays. Storage size is N\n",
    "r = np.zeros((len(t), 2)) # Creates an empty array of [x,y] arrays. Storage size is N\n",
    "r[0] = [0.0,0.0] # Sets inital position to be x = 0 and y = 0\n",
    "v[0] = [vx, vy] # Sets initial velocities \n",
    "a[0] = [ax, ay] # Sets initial acclerations"
   ]
  },
  {
   "cell_type": "code",
   "execution_count": 9,
   "metadata": {},
   "outputs": [],
   "source": [
    "# Performing Euler's method\n",
    "for i in range(0,len(t)-1):\n",
    "    a[i+1] = [-c*v[i,0], -c*v[i,1] - g]\n",
    "    v[i+1] = v[i] + a[i]*dt\n",
    "    r[i+1] = r[i] + v[i]*dt"
   ]
  },
  {
   "cell_type": "code",
   "execution_count": 10,
   "metadata": {},
   "outputs": [
    {
     "data": {
      "image/png": "[encoded data removed]",
      "text/plain": [
       "<Figure size 432x288 with 1 Axes>"
      ]
     },
     "metadata": {},
     "output_type": "display_data"
    }
   ],
   "source": [
    "# Plotting the results\n",
    "plt.scatter(r[:,0],r[:,1],s=15, c='r') # Plots the individual points instead of making lines like plt.plot() does\n",
    "plt.grid() # Adds a grid to our plot\n",
    "plt.show()"
   ]
  },
  {
   "cell_type": "markdown",
   "metadata": {},
   "source": [
    "## Compare the computational analysis versus expected values"
   ]
  },
  {
   "cell_type": "code",
   "execution_count": 11,
   "metadata": {},
   "outputs": [],
   "source": [
    "vx = vi*np.cos(theta)\n",
    "vy = vi*np.sin(theta)\n",
    "t1 = np.arange(0,tf,.01)\n",
    "r1 = np.zeros((len(t), 2))\n",
    "\n",
    "x = (vx/c)*(1-np.exp(-c*(t1)))\n",
    "y = ((-g*t1)/c)+((vy+g/c)/c)*(1-np.exp(-c*t1))"
   ]
  },
  {
   "cell_type": "code",
   "execution_count": 12,
   "metadata": {},
   "outputs": [
    {
     "data": {
      "image/png": "[encoded data removed]",
      "text/plain": [
       "<Figure size 432x288 with 1 Axes>"
      ]
     },
     "metadata": {},
     "output_type": "display_data"
    }
   ],
   "source": [
    "plt.plot(x,y)\n",
    "plt.scatter(r[:,0],r[:,1],s=15, c='r')\n",
    "plt.grid()\n",
    "plt.show()"
   ]
  },
  {
   "cell_type": "markdown",
   "metadata": {},
   "source": [
    "# Now using what we have learned so far:\n",
    "#### Create another program below that implements Euler's Method for a canonball being fired from position (0, 5) at 36 degrees with respect to the horizon, initial velocity 100 m/s, and drag coefficient of .3. Analyze this projectile for 10 seconds and compare to the expected values.\n",
    "\n",
    "Feel free to use parts of any code shown this week or the previous week(s) and as many cells as you desire. Play around with the step size and comment on how it affects the accuracy of Euler's Method. "
   ]
  },
  {
   "cell_type": "code",
   "execution_count": 13,
   "metadata": {},
   "outputs": [
    {
     "data": {
      "image/png": "[encoded data removed]",
      "text/plain": [
       "<Figure size 432x288 with 1 Axes>"
      ]
     },
     "metadata": {},
     "output_type": "display_data"
    }
   ],
   "source": [
    "# Initial values\n",
    "vi = 100 #m/s\n",
    "g = 9.8 #m/s^2\n",
    "c = 0.3 #s^-1\n",
    "theta = np.radians(36) #radians\n",
    "vx = vi*np.cos(theta) #m/s\n",
    "vy = vi*np.sin(theta) #m/s\n",
    "ax = -c*vx #m/s^2\n",
    "ay = -c*vy - g #m/s^2\n",
    "\n",
    "tf = 10 #The final time\n",
    "dt = .1 # time step size\n",
    "t = np.arange(0.0,tf,dt) # Creates an evenly spaced time array going from 0 to 3, with step sizes .1\n",
    "a = np.zeros((len(t), 2)) # Creates an empty array of [ax, ay] arrays. Storage same as number of steps, N\n",
    "v = np.zeros((len(t), 2)) # Creates an empty array of [vx, vy] arrays. Storage size is N\n",
    "r = np.zeros((len(t), 2)) # Creates an empty array of [x,y] arrays. Storage size is N\n",
    "r[0] = [0.0,5.0] # Sets inital position to be x = 0 and y = 0\n",
    "v[0] = [vx, vy] # Sets initial velocities \n",
    "a[0] = [ax, ay] # Sets initial acclerations\n",
    "\n",
    "for i in range(0,len(t)-1):\n",
    "    a[i+1] = [-c*v[i,0], -c*v[i,1] - g]\n",
    "    v[i+1] = v[i] + a[i]*dt\n",
    "    r[i+1] = r[i] + v[i]*dt\n",
    "\n",
    "vx = vi*np.cos(theta)\n",
    "vy = vi*np.sin(theta)\n",
    "t1 = np.arange(0,tf,.01)\n",
    "r1 = np.zeros((len(t), 2))\n",
    "\n",
    "x = (vx/c)*(1-np.exp(-c*(t1)))\n",
    "y = ((-g*t1)/c)+((vy+g/c)/c)*(1-np.exp(-c*t1))\n",
    "\n",
    "plt.plot(x,y)\n",
    "plt.scatter(r[:,0],r[:,1],s=15, c='r')\n",
    "plt.grid()\n",
    "plt.show()"
   ]
  },
  {
   "cell_type": "markdown",
   "metadata": {},
   "source": [
    "# Students should comment that smaller step sizes (more time steps) results in more accurate computations."
   ]
  }
 ],
 "metadata": {
  "kernelspec": {
   "display_name": "Python 3",
   "language": "python",
   "name": "python3"
  },
  "language_info": {
   "codemirror_mode": {
    "name": "ipython",
    "version": 3
   },
   "file_extension": ".py",
   "mimetype": "text/x-python",
   "name": "python",
   "nbconvert_exporter": "python",
   "pygments_lexer": "ipython3",
   "version": "3.6.5"
  }
 },
 "nbformat": 4,
 "nbformat_minor": 2
}
