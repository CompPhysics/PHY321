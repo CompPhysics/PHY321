{
 "cells": [
  {
   "cell_type": "markdown",
   "metadata": {},
   "source": [
    "## Classical Mechanics - Week 1 Computational Learning"
   ]
  },
  {
   "cell_type": "markdown",
   "metadata": {},
   "source": [
    "## Name: "
   ]
  },
  {
   "cell_type": "code",
   "execution_count": null,
   "metadata": {},
   "outputs": [],
   "source": [
    "# Here are basic packages we will be using this week\n",
    "\n",
    "import numpy as np \n",
    "import matplotlib.pyplot as plt"
   ]
  },
  {
   "cell_type": "markdown",
   "metadata": {},
   "source": [
    "## We will be working with vectors and matrices to get you familiar with them\n",
    "\n",
    "#### Initalize two xyz vectors in the below cell using np.array([x,y,z]). Vectors are represented through arrays in python\n",
    "#### V1 should have x1=1, y1 =2, and z1=3. \n",
    "#### Vector 2 should have x2=4, y2=5,  and z2=6. \n",
    "#### Print both vectors to make sure it is working peroperly\n"
   ]
  },
  {
   "cell_type": "code",
   "execution_count": null,
   "metadata": {},
   "outputs": [],
   "source": [
    "V1 = np.array([1,2,3])\n",
    "V2 = np.array([4,5,6])\n",
    "print(\"V1: \", V1)\n",
    "print(\"V2: \", V2)"
   ]
  },
  {
   "cell_type": "markdown",
   "metadata": {},
   "source": [
    "#### Once you have gotten the vectors set up, nice! If not, no worries. Here's a useful link for creating vectors in python https://docs.scipy.org/doc/numpy-1.13.0/user/basics.creation.html\n",
    "\n",
    "#### Now lets do some basic math with vectors. Print the following the following, and double check with hand calculations:\n",
    "        a.) V1-V2   b.) V2-V1  "
   ]
  },
  {
   "cell_type": "code",
   "execution_count": null,
   "metadata": {},
   "outputs": [],
   "source": [
    "print(V1-V2)\n",
    "print(V2-V1)"
   ]
  },
  {
   "cell_type": "markdown",
   "metadata": {},
   "source": [
    "#### Let's take the dot product of V1 and V2 in the empty cell below using V1.dot(V2)\n",
    "## NOTE: This function is only usable while numpy is imported"
   ]
  },
  {
   "cell_type": "code",
   "execution_count": null,
   "metadata": {},
   "outputs": [],
   "source": []
  },
  {
   "cell_type": "markdown",
   "metadata": {},
   "source": [
    "#### Matrices can be created in a similar fashion in python. However the way we manipulate them isn't as direct as vectors. In this language we can work with them through the package numpy (which we have already imported)\n",
    "\n",
    "#### Below is an example of how to make a matrix in python."
   ]
  },
  {
   "cell_type": "code",
   "execution_count": null,
   "metadata": {},
   "outputs": [],
   "source": [
    "M1 = np.array([[1,2,3],\n",
    "             [4,5,6],\n",
    "             [7,8,9]])"
   ]
  },
  {
   "cell_type": "markdown",
   "metadata": {},
   "source": [
    "#### Now make matrices M2 and M3 in the cell below. M2 should be 3x2 (3 rows and 2 columns) and M3 should be 3x3. Fill them with any non-zero numbers you desire."
   ]
  },
  {
   "cell_type": "code",
   "execution_count": null,
   "metadata": {},
   "outputs": [],
   "source": []
  },
  {
   "cell_type": "markdown",
   "metadata": {},
   "source": [
    "#### Matrices are added in the same way vectors are in python. To mutiply two matrices (e.g. M1xM2) you will need to use the .dot() function. \n",
    "\n",
    " Below please use the print function to print M1xM2 and M1+M3. I already set up the print function for you, you simply need to insert the proper synthax after the comma."
   ]
  },
  {
   "cell_type": "code",
   "execution_count": null,
   "metadata": {},
   "outputs": [],
   "source": [
    "print(\"M1xM2: \", )\n",
    "print(\"M1+M2: \", )"
   ]
  },
  {
   "cell_type": "markdown",
   "metadata": {},
   "source": [
    "#### Run the cell below and notice how when doing M2xM1 this does not work. Do not worry, this is expected if you remember how matrices work. The first matrix's number of columns must equal the second matrix's number of rows. \n",
    "\n",
    "After you run the below cell once, fix the problem by making a new matrix M4 that has two rows (number of columns is up to you) and update the print outputs appropriately (changing every M1 to M4)."
   ]
  },
  {
   "cell_type": "code",
   "execution_count": null,
   "metadata": {},
   "outputs": [],
   "source": [
    "print(\"M2xM1: \", M2.dot(M1))"
   ]
  },
  {
   "cell_type": "markdown",
   "metadata": {},
   "source": [
    "# That's enough vectors and matrices for now. Let's move on to some physics problems :) \n",
    "(Yes, the actual subject we are studying for)"
   ]
  },
  {
   "cell_type": "markdown",
   "metadata": {},
   "source": [
    "### We'll be working with a basic projectile motion for this part. Let's plot the motion of a projectile over time\n",
    "\n",
    "\n",
    "\n",
    "# Problem: \n",
    "Suppose we're in an open field outside of East Lansing. We fire a ball out of a cannon with a speed of 20m/s and angled at 45 degrees from the leveled ground. We will be plotting two different graphs: x versus time, and y versus time. We we also designate our starting point as the origin.\n",
    "### NOTE: np.sin() and np.cos() uses radians. Ignore air resistance for now."
   ]
  },
  {
   "cell_type": "markdown",
   "metadata": {},
   "source": [
    "## There are many ways to approach this problem, especially in a computational aspect. However, in order to get your feet wet in programing, let us do something basic for this week: \n",
    "\n",
    "Determining our equations of motion for the X and Y position in respect to time using out Physics I knowledge we get the following:\n",
    "\n",
    "$\\mathbf{x}(\\mathbf{t}) = x_i + v_{0x} t + \\dfrac{1}{2}a_xt^2 $\n",
    "\n",
    "$\\mathbf{x}(\\mathbf{t}) = y_i + v_{0y} t + \\dfrac{1}{2}a_yt^2 $\n",
    "\n",
    "Where $v_{0x}$ and $v_{0y}$ are the initial velocities for their respective components, same going for the acceleration $a$. "
   ]
  },
  {
   "cell_type": "markdown",
   "metadata": {},
   "source": [
    "#### Going through paper pencil exercises, determine the equations to solve for the following, but do NOT solve:\n",
    "1.) Initial X velocity\n",
    "\n",
    "2.) Initial Y Velocity\n",
    "\n",
    "3.) Final Time\n",
    "\n",
    "#### We're going to use these equations to create a simple yet adjustable computation (Run the cell below)"
   ]
  },
  {
   "cell_type": "code",
   "execution_count": null,
   "metadata": {},
   "outputs": [],
   "source": [
    "# We are going to need an extra package to create a legend for the plots\n",
    "import matplotlib.patches as mpatches"
   ]
  },
  {
   "cell_type": "markdown",
   "metadata": {},
   "source": [
    "#### Now let's declare our given variables (run the cell below): "
   ]
  },
  {
   "cell_type": "code",
   "execution_count": null,
   "metadata": {},
   "outputs": [],
   "source": [
    "vi = 20 #m/s\n",
    "theta = np.pi/4 #radians\n",
    "g = 9.8 #m/s^2"
   ]
  },
  {
   "cell_type": "markdown",
   "metadata": {},
   "source": [
    "#### Now for the fun parts:\n",
    "Plug in the equations for $v_y$ (vy), final time (tf), $\\mathbf{y}(\\mathbf{t})$ (y). We will provide you with $v_x$ (vx) and $\\mathbf{x}(\\mathbf{t})$ (x) as guideline of what we are looking for."
   ]
  },
  {
   "cell_type": "code",
   "execution_count": null,
   "metadata": {},
   "outputs": [],
   "source": [
    "vx = vi*np.cos(theta) #m/s // We can use trig to figure this out\n",
    "vy = #m/s // How would we calculate the vy from inital v?\n",
    "tf = #s // What's a way to calculate the total time the ball will stay in the air?\n",
    "t = np.arange(0,tf,.01) #This is creating time steps of our calculation\n",
    "x = vx*t #m // There is no accleration in the x component, thus we can just do v*t\n",
    "y = #m // What should the vertical equation look like?"
   ]
  },
  {
   "cell_type": "markdown",
   "metadata": {},
   "source": [
    "#### Once you have pluged in your algorithms, run the cell bellow. It will plot the graphs if you have put in proper equations\n",
    "\n",
    "The $\\mathbf{X}(\\mathbf{t})$ and $\\mathbf{Y}(\\mathbf{t})$ plots will be on the same graph. Note how they differ over time. \n",
    "Does this plot align with similar problems you have done in the past?"
   ]
  },
  {
   "cell_type": "code",
   "execution_count": null,
   "metadata": {},
   "outputs": [],
   "source": [
    "plt.style.use('ggplot')\n",
    "plt.figure(figsize=(8,8))\n",
    "plt.plot(t, y, color = 'b')\n",
    "plt.plot(t, x, color = 'r')\n",
    "red_patch = mpatches.Patch(color = 'r', label = 'X position over time')\n",
    "blue_patch = mpatches.Patch(color = 'b', label = 'Y position over time')\n",
    "plt.legend(handles=[red_patch, blue_patch])\n",
    "plt.xlabel(\"Time (s)\")\n",
    "plt.ylabel(\"Distance (m)\") "
   ]
  },
  {
   "cell_type": "markdown",
   "metadata": {},
   "source": [
    "## Nice. Now plot a graph of the Y position as a function of X\n",
    "\n",
    "For this part you are already given an initalized list, for loop, and plot funciton. \n",
    "#### Your job is to simply put the same correct equations used before in their respective .append() brackets. "
   ]
  },
  {
   "cell_type": "code",
   "execution_count": null,
   "metadata": {},
   "outputs": [],
   "source": [
    "X = []\n",
    "Y = []\n",
    "\n",
    "for t in np.arange(0,tf,.01):\n",
    "    \n",
    "    X.append()\n",
    "    Y.append()\n",
    "\n",
    "plt.xlabel(\"Distance (m)\")\n",
    "plt.ylabel(\"Height (m)\")\n",
    "plt.plot(X,Y)"
   ]
  },
  {
   "cell_type": "markdown",
   "metadata": {},
   "source": [
    "### Now using what we have learned, let's create a program that takes in initial velocity and angle while spitting out a graph and time airborn:\n",
    "\n",
    "We will ask for the degree of the canon firing in degrees, but limited to 0-90 degrees. A command for user inputs is already provided, along with the  skeleton of the funciton. Your job is to complete it using the hints provided.\n",
    "\n",
    "Once you have read all the comments and put in the proper commands, run the cell and see what you get!"
   ]
  },
  {
   "cell_type": "code",
   "execution_count": null,
   "metadata": {},
   "outputs": [],
   "source": [
    "# The next two commands will ask the user for an input. The value will be stored as a \"float number\"\n",
    "Vi = float(input(\"Please enter initial velocity (m/s)\"))\n",
    "Theta = float(input(\"Please enter degree at which projectile is launched (0 - 90 Degrees)\"))\n",
    "\n",
    "X1 = []\n",
    "Y1 = []\n",
    "\n",
    "# This is where we create our function \n",
    "def Canon(Vi, Theta, X1, Y1):\n",
    "    g = 9.8 # m/s^2\n",
    "    \n",
    "    Radian = np.radians(Theta) #Converts degrees to radians\n",
    "    \n",
    "    # Below, put in the proper vx, vy, and time equations from before.\n",
    "    # Remember: Use the radians to do your computations. numpy works with radians.\n",
    "    # Also: Pay attention to variable names used!\n",
    "    vx = \n",
    "    vy = \n",
    "    tf = \n",
    "    \n",
    "    #Next is our for loop to add the x and y positions over time to our input lists\n",
    "    for t in np.arange(0,tf,.01):\n",
    "        # In the append(), put in the proper position equations from before\n",
    "        X1.append()\n",
    "        Y1.append()\n",
    "\n",
    "    print('Time in air: ' + str(tf))\n",
    "\n",
    "# Now below, we will call upon the Canon function\n",
    "Canon(Vi, Theta, X1, Y1)\n",
    "\n",
    "# Below this line, use our newely appended X1 and Y1 lists to plot an X v Y graph\n",
    "# You can use the method from the previous cell, but pay attention to the variable names"
   ]
  },
  {
   "cell_type": "markdown",
   "metadata": {},
   "source": [
    "# Congratulations, you are at the end of the assignment! "
   ]
  }
 ],
 "metadata": {
  "kernelspec": {
   "display_name": "Python 3",
   "language": "python",
   "name": "python3"
  },
  "language_info": {
   "codemirror_mode": {
    "name": "ipython",
    "version": 3
   },
   "file_extension": ".py",
   "mimetype": "text/x-python",
   "name": "python",
   "nbconvert_exporter": "python",
   "pygments_lexer": "ipython3",
   "version": "3.6.5"
  }
 },
 "nbformat": 4,
 "nbformat_minor": 2
}
