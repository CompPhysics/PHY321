{
 "cells": [
  {
   "cell_type": "code",
   "execution_count": 1,
   "metadata": {},
   "outputs": [
    {
     "data": {
      "text/plain": [
       "<Figure size 640x480 with 1 Axes>"
      ]
     },
     "metadata": {},
     "output_type": "display_data"
    }
   ],
   "source": [
    "#Import modules/libraries\n",
    "import random\n",
    "import numpy as np\n",
    "import matplotlib.pyplot as plt\n",
    "import statistics\n",
    "\n",
    "#We will see the frequency of the sum of two dice rolls, define a function to take the sum of two random dice rolls\n",
    "def rollDice():\n",
    "    roll1 = random.randint(1,7) #Returns a random number between 1 and 6\n",
    "    roll2 = random.randint(1,7)\n",
    "    return roll1+roll2 #Add result of two random dice rolls\n",
    "\n",
    "x = 0\n",
    "nums=[]\n",
    "while x < 1000:\n",
    "    result = rollDice()\n",
    "    nums.append(result)\n",
    "    x+=1 #appends each sum to a list\n",
    "plt.hist(nums, rwidth=0.75, bins=12) #Plots frequency of each sum\n",
    "plt.title(\"Sum of Rolling Two Dice\")\n",
    "plt.xlabel(\"Value\")\n",
    "plt.ylabel(\"Frequency\")\n",
    "\n",
    "def gauss(lis): #defines a function that plots the corresponding Gaussian (normal) distribution\n",
    "    mean=np.mean(lis) #Average value of the list\n",
    "    stdev=statistics.stdev(lis) #Standard Deviation\n",
    "    x=np.arange(0,max(lis),0.001) #creates point from 0 to the upper bound of the list\n",
    "    y=1e3/np.sqrt(2*np.pi*(stdev)**2)*np.exp(-(x-mean)**2/(2*stdev**2))\n",
    "    return y\n",
    "    \n",
    "x=np.arange(0,14, 0.001)\n",
    "plt.plot(x, gauss(nums))\n",
    "plt.show()"
   ]
  },
  {
   "cell_type": "code",
   "execution_count": null,
   "metadata": {
    "collapsed": true
   },
   "outputs": [],
   "source": []
  }
 ],
 "metadata": {
  "kernelspec": {
   "display_name": "Python 3",
   "language": "python",
   "name": "python3"
  },
  "language_info": {
   "codemirror_mode": {
    "name": "ipython",
    "version": 3
   },
   "file_extension": ".py",
   "mimetype": "text/x-python",
   "name": "python",
   "nbconvert_exporter": "python",
   "pygments_lexer": "ipython3",
   "version": "3.6.5"
  }
 },
 "nbformat": 4,
 "nbformat_minor": 2
}
