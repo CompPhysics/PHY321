{
 "cells": [
  {
   "cell_type": "markdown",
   "metadata": {},
   "source": [
    "## Classical Mechanics - Week 1 Answers"
   ]
  },
  {
   "cell_type": "code",
   "execution_count": 1,
   "metadata": {},
   "outputs": [],
   "source": [
    "# Here are basic packages we will be using this week\n",
    "\n",
    "import numpy as np \n",
    "import matplotlib.pyplot as plt\n",
    "%matplotlib inline"
   ]
  },
  {
   "cell_type": "markdown",
   "metadata": {},
   "source": [
    "## We will be working with vectors and matrices to get you familiar with them\n",
    "\n",
    "#### Initalize two xyz vectors in the below cell using np.array([x,y,z]). Vectors are represented through arrays in python\n",
    "#### V1 should have x1=1, y1 =2, and z1=3. \n",
    "#### Vector 2 should have x2=4, y2=5,  and z2=6. \n",
    "#### Print both vectors to make sure it is working peroperly\n"
   ]
  },
  {
   "cell_type": "code",
   "execution_count": 2,
   "metadata": {},
   "outputs": [
    {
     "name": "stdout",
     "output_type": "stream",
     "text": [
      "V1:  [1 2 3]\n",
      "V2:  [4 5 6]\n"
     ]
    }
   ],
   "source": [
    "V1 = np.array([1,2,3])\n",
    "V2 = np.array([4,5,6])\n",
    "print(\"V1: \", V1)\n",
    "print(\"V2: \", V2)"
   ]
  },
  {
   "cell_type": "markdown",
   "metadata": {},
   "source": [
    "#### Once you have gotten the vectors set up, nice! If not, no worries. Here's a useful link for creating vectors in python https://docs.scipy.org/doc/numpy-1.13.0/user/basics.creation.html\n",
    "\n",
    "#### Now lets do some basic math with vectors. Print the following the following, and double check with hand calculations:\n",
    "##### a.) V1-V2    b.) V2-V1  "
   ]
  },
  {
   "cell_type": "code",
   "execution_count": 3,
   "metadata": {},
   "outputs": [
    {
     "name": "stdout",
     "output_type": "stream",
     "text": [
      "[-3 -3 -3]\n",
      "[0 0 0]\n"
     ]
    }
   ],
   "source": [
    "print(V1-V2)\n",
    "print(V2-V2)"
   ]
  },
  {
   "cell_type": "markdown",
   "metadata": {},
   "source": [
    "#### Let's take the dot product of V1 and V2 below using V1.dot(V2)\n",
    "## NOTE: This function is only usable while numpy is imported"
   ]
  },
  {
   "cell_type": "code",
   "execution_count": 4,
   "metadata": {},
   "outputs": [
    {
     "name": "stdout",
     "output_type": "stream",
     "text": [
      "32\n"
     ]
    }
   ],
   "source": [
    "print(V1.dot(V2))"
   ]
  },
  {
   "cell_type": "markdown",
   "metadata": {},
   "source": [
    "#### Matrices can be created in a similar fashion in python. However the way we manipulate them isn't as direct as vectors. In this language we can work with them through the package numpy (which we have already imported)"
   ]
  },
  {
   "cell_type": "code",
   "execution_count": 5,
   "metadata": {},
   "outputs": [],
   "source": [
    "M1 = np.array([[1,2,3],\n",
    "             [4,5,6],\n",
    "             [7,8,9]])\n",
    "M2 = np.array([[1,2],\n",
    "             [3,4],\n",
    "             [5,6]])\n",
    "M3 = np.array([[9,8,7],\n",
    "             [4,5,6],\n",
    "             [7,6,9]])"
   ]
  },
  {
   "cell_type": "markdown",
   "metadata": {},
   "source": [
    "#### Matrices can be added in the same way vectors are added in python. However to get proper answers for multiplication, you'll need to use the .dot() function "
   ]
  },
  {
   "cell_type": "code",
   "execution_count": 6,
   "metadata": {},
   "outputs": [
    {
     "name": "stdout",
     "output_type": "stream",
     "text": [
      "M1*M2:  [[ 22  28]\n",
      " [ 49  64]\n",
      " [ 76 100]]\n",
      "M1+M2:  [[10 10 10]\n",
      " [ 8 10 12]\n",
      " [14 14 18]]\n"
     ]
    }
   ],
   "source": [
    "print(\"M1*M2: \", M1.dot(M2))\n",
    "print(\"M1+M2: \", M1+M3)"
   ]
  },
  {
   "cell_type": "markdown",
   "metadata": {},
   "source": [
    "#### Run the cell below and notice how when doing M2xM1 this does not work. Do not worry, this is expected if you remember how matrices work. The first matrix's number of columns must equal the second matrix's number of rows. \n",
    "\n",
    "#### After you run the below cell once, fix the problem by making a new matrix M4 that has two rows (number of columns is up to you) and update the print outputs appropriately (changing every M1 to M4)."
   ]
  },
  {
   "cell_type": "code",
   "execution_count": 7,
   "metadata": {},
   "outputs": [
    {
     "name": "stdout",
     "output_type": "stream",
     "text": [
      "M2*M4:  [[17 18]\n",
      " [43 44]\n",
      " [69 70]]\n"
     ]
    }
   ],
   "source": [
    "## print(\"M2xM1: \", M2.dot(M1)) \n",
    "## The above is the original thing in the cell, giving an error. Below is an example of a way of fixing the error\n",
    "\n",
    "M4 =M3 = np.array([[9,8],\n",
    "             [4,5]])\n",
    "print(\"M2*M4: \", M2.dot(M4))"
   ]
  },
  {
   "cell_type": "markdown",
   "metadata": {},
   "source": [
    "# That's enough vectors and matrices for now. Let's move on to some physics problems :) \n",
    "#### (Yes, the actual subject we are studying for)"
   ]
  },
  {
   "cell_type": "markdown",
   "metadata": {},
   "source": [
    "### We'll be working with a basic projectile motion for this part. Let's plot the motion of a projectile over time\n",
    "\n",
    "\n",
    "\n",
    "# Problem: Suppose I fired a ball out of a cannon with a speed of 20m/s and angled at 45 degrees from the leveled ground. We will be plotting two different graphs: x versus time, and y versus time. \n",
    "### NOTE: np.sin() and np.cos() uses radians. Ignore air resistance for now."
   ]
  },
  {
   "cell_type": "markdown",
   "metadata": {},
   "source": [
    "## There are many ways to approach this problem, especially in a computational aspect. However, in order to get your feet wet in programing, let us do something basic for this week: \n",
    "\n",
    "Determining our equations of motion for the X and Y position in respect to time using out Physics I knowledge we get the following:\n",
    "\n",
    "$\\mathbf{X}(\\mathbf{t}) = X_i + V_x t + \\dfrac{1}{2}a_xt^2 $\n",
    "\n",
    "$\\mathbf{Y}(\\mathbf{t}) = Y_i + V_x t + \\dfrac{1}{2}a_yt^2 $\n",
    "\n",
    "Where $V_x$ and $V_y$ are the initial velocities for their respective components, same going for the acceleration $a$. "
   ]
  },
  {
   "cell_type": "markdown",
   "metadata": {},
   "source": [
    "#### Going through paper pencil exercises, determine the equations to solve for the following, but do NOT solve:\n",
    "1.) Initial X velocity\n",
    "\n",
    "2.) Initial Y Velocity\n",
    "\n",
    "3.) Final Time\n",
    "\n",
    "#### We're going to use these equations to create a simple yet adjustable computation (Run the cell below)"
   ]
  },
  {
   "cell_type": "code",
   "execution_count": 11,
   "metadata": {},
   "outputs": [
    {
     "data": {
      "text/plain": [
       "Text(0,0.5,'Distance (m)')"
      ]
     },
     "execution_count": 11,
     "metadata": {},
     "output_type": "execute_result"
    },
    {
     "data": {
      "image/png": "[encoded data removed]",
      "text/plain": [
       "<Figure size 576x576 with 1 Axes>"
      ]
     },
     "metadata": {},
     "output_type": "display_data"
    }
   ],
   "source": [
    "%matplotlib inline\n",
    "import matplotlib.patches as mpatches\n",
    "\n",
    "vi = 20 #m/s\n",
    "theta = np.pi/4 #radians\n",
    "g = 9.8 #m/s^2\n",
    "vy = vi*np.sin(theta) #m/s\n",
    "vx = vi*np.cos(theta) #m/s\n",
    "tf = (vy/g)*2 #s\n",
    "t = np.arange(0,tf,.01)\n",
    "y = vy*t - g*.5*t**2\n",
    "x = vx*t\n",
    "plt.style.use('ggplot')\n",
    "plt.figure(figsize=(8,8))\n",
    "plt.plot(t, y, color = 'b')\n",
    "plt.plot(t, x, color = 'r')\n",
    "red_patch = mpatches.Patch(color = 'r', label = 'X position over time')\n",
    "blue_patch = mpatches.Patch(color = 'b', label = 'Y position over time')\n",
    "plt.legend(handles=[red_patch, blue_patch])\n",
    "plt.xlabel(\"Time (s)\")\n",
    "plt.ylabel(\"Distance (m)\")   "
   ]
  },
  {
   "cell_type": "markdown",
   "metadata": {},
   "source": [
    "## Now plot a graph of the Y position as a function of X"
   ]
  },
  {
   "cell_type": "code",
   "execution_count": 9,
   "metadata": {},
   "outputs": [
    {
     "data": {
      "text/plain": [
       "[<matplotlib.lines.Line2D at 0x7f75c822c2e8>]"
      ]
     },
     "execution_count": 9,
     "metadata": {},
     "output_type": "execute_result"
    },
    {
     "data": {
      "image/png": "[encoded data removed]",
      "text/plain": [
       "<Figure size 432x288 with 1 Axes>"
      ]
     },
     "metadata": {},
     "output_type": "display_data"
    }
   ],
   "source": [
    "X = []\n",
    "Y = []\n",
    "\n",
    "for t in np.arange(0,tf,.01):\n",
    "    \n",
    "    X.append(vx*t)\n",
    "    Y.append(vy*t - g*.5*t**2)\n",
    "\n",
    "plt.xlabel(\"Distance (m)\")\n",
    "plt.ylabel(\"Height (m)\")\n",
    "plt.plot(X,Y)"
   ]
  },
  {
   "cell_type": "markdown",
   "metadata": {},
   "source": [
    "### Now using what we have learned, let's create a program that takes in initial velocity and angle while spitting out a graph and time airborn:\n",
    "\n",
    "We will ask for the degree of the canon firing in degrees, but limited to 0-90 degrees. A command for user inputs is already provided, along with the  skeleton of the funciton. Your job is to complete it using the hints provided."
   ]
  },
  {
   "cell_type": "code",
   "execution_count": 24,
   "metadata": {},
   "outputs": [
    {
     "name": "stdout",
     "output_type": "stream",
     "text": [
      "Please enter initial velocity (m/s)60\n",
      "Please enter degree at which projectile is launched (0 - 90 Degrees)20\n",
      "Time in air: 4.188001755008188\n"
     ]
    },
    {
     "data": {
      "text/plain": [
       "[<matplotlib.lines.Line2D at 0x7f759f370d68>]"
      ]
     },
     "execution_count": 24,
     "metadata": {},
     "output_type": "execute_result"
    },
    {
     "data": {
      "image/png": "[encoded data removed]",
      "text/plain": [
       "<Figure size 432x288 with 1 Axes>"
      ]
     },
     "metadata": {},
     "output_type": "display_data"
    }
   ],
   "source": [
    "# The next two commands will ask the user for an input. The value will be stored as a \"float number\"\n",
    "Vi = float(input(\"Please enter initial velocity (m/s)\"))\n",
    "Theta = float(input(\"Please enter degree at which projectile is launched (0 - 90 Degrees)\"))\n",
    "X1 = []\n",
    "Y1 = []\n",
    "# This is where we create our function \n",
    "def Canon(Vi, Theta, X1, Y1):\n",
    "    g = 9.8 # m/s^2\n",
    "    Radian = np.radians(Theta) #Converts degrees to radians\n",
    "    \n",
    "    # Below, put in the proper vx, vy, and time equations from before.\n",
    "    # Remember: Use the radians to do your computations. numpy works with radians.\n",
    "    # Also: Pay attention to variable names used!\n",
    "    vx = Vi * np.cos(Radian)\n",
    "    vy = Vi * np.sin(Radian)\n",
    "    tf = (vy/g)*2\n",
    "    \n",
    "    #Next is our for loop\n",
    "    for t in np.arange(0,tf,.01):\n",
    "        # In the append(), put in the proper position equations from before\n",
    "        X1.append(vx*t)\n",
    "        Y1.append(vy*t - g*.5*t**2)\n",
    "    \n",
    "    print('Time in air: ' + str(tf))\n",
    "\n",
    "# Now below, we will call upon the Canon function\n",
    "Canon(Vi, Theta, X1, Y1)\n",
    "\n",
    "# Below this line, use our newely appended X1 and Y1 lists to plot an X v Y graph\n",
    "# You can use the method from the previous cell, but pay attention to the variable names\n",
    "plt.xlabel(\"Distance (m)\")\n",
    "plt.ylabel(\"Height (m)\")\n",
    "plt.plot(X1,Y1)"
   ]
  },
  {
   "cell_type": "markdown",
   "metadata": {},
   "source": [
    "# Congratulations, you are at the end of the assignment! "
   ]
  }
 ],
 "metadata": {
  "kernelspec": {
   "display_name": "Python 3",
   "language": "python",
   "name": "python3"
  },
  "language_info": {
   "codemirror_mode": {
    "name": "ipython",
    "version": 3
   },
   "file_extension": ".py",
   "mimetype": "text/x-python",
   "name": "python",
   "nbconvert_exporter": "python",
   "pygments_lexer": "ipython3",
   "version": "3.6.5"
  }
 },
 "nbformat": 4,
 "nbformat_minor": 2
}
