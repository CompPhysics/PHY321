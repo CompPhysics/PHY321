{
 "cells": [
  {
   "cell_type": "markdown",
   "metadata": {},
   "source": [
    "### Rough Draft For PHY321 (Classical Mechanics) Python Exercises|"
   ]
  },
  {
   "cell_type": "markdown",
   "metadata": {},
   "source": [
    "###### Introduction to imports and syntax"
   ]
  },
  {
   "cell_type": "code",
   "execution_count": 10,
   "metadata": {},
   "outputs": [],
   "source": [
    "import numpy as np\n",
    "import matplotlib.pyplot as plt\n",
    "import math"
   ]
  },
  {
   "cell_type": "code",
   "execution_count": 30,
   "metadata": {},
   "outputs": [
    {
     "name": "stdout",
     "output_type": "stream",
     "text": [
      "r =  5\n",
      "e =  4\n"
     ]
    }
   ],
   "source": [
    "q = 1\n",
    "r = 3 + 2\n",
    "e = 3 + q\n",
    "\n",
    "print(\"r = \", r)\n",
    "print(\"e = \", e)"
   ]
  },
  {
   "cell_type": "code",
   "execution_count": 20,
   "metadata": {},
   "outputs": [
    {
     "name": "stdout",
     "output_type": "stream",
     "text": [
      "p =  45\n",
      "d =  45\n"
     ]
    }
   ],
   "source": [
    "p = 0\n",
    "d = 0\n",
    "for i in range(1,10):\n",
    "    p += i\n",
    "    d = d + i\n",
    "print(\"p = \", p)\n",
    "print(\"d = \", d)"
   ]
  },
  {
   "cell_type": "markdown",
   "metadata": {},
   "source": [
    "###### Notice how for loops only add from the beginning number to just before the limit when using the \"range()\" funciton?"
   ]
  },
  {
   "cell_type": "code",
   "execution_count": 6,
   "metadata": {},
   "outputs": [],
   "source": [
    "def this(x):\n",
    "    y = 3 + x\n",
    "    return(y)"
   ]
  },
  {
   "cell_type": "code",
   "execution_count": 7,
   "metadata": {},
   "outputs": [
    {
     "data": {
      "text/plain": [
       "5"
      ]
     },
     "execution_count": 7,
     "metadata": {},
     "output_type": "execute_result"
    }
   ],
   "source": [
    "this(2)"
   ]
  },
  {
   "cell_type": "markdown",
   "metadata": {},
   "source": [
    "# The following are example projects that we will possibly build around for Classical Mechanics"
   ]
  },
  {
   "cell_type": "code",
   "execution_count": 38,
   "metadata": {},
   "outputs": [
    {
     "name": "stdout",
     "output_type": "stream",
     "text": [
      "Please enter time passed since rocket launched (t) 10\n",
      "velocity at time 10.0 s is\n",
      "1.224659835607655 m/s\n"
     ]
    }
   ],
   "source": [
    "##Rocket Problem\n",
    "v_c = 30 #m/s\n",
    "M_o = 1000 #kg\n",
    "a = 4 #kg, Constant at which fuel is being lost\n",
    "t = float(input(\"Please enter time passed since rocket launched (t) \")) #time(s)\n",
    "\n",
    "def velocity(t, v_c, M_o, a):\n",
    "    v = -v_c*np.log((M_o-a*t)/M_o)\n",
    "    print(\"velocity at time %s s is\" %t)\n",
    "    print(v, \"m/s\")\n",
    "    \n",
    "velocity(t, v_c, M_o, a)"
   ]
  },
  {
   "cell_type": "code",
   "execution_count": 11,
   "metadata": {},
   "outputs": [
    {
     "data": {
      "image/png": "[encoded data removed]",
      "text/plain": [
       "<Figure size 432x288 with 1 Axes>"
      ]
     },
     "metadata": {},
     "output_type": "display_data"
    }
   ],
   "source": [
    "x_i = 0\n",
    "x_f = 2000000\n",
    "m = 2.5 #kg\n",
    "v_o = 75 #m/s\n",
    "L = 10 #m\n",
    "U_o = 15 #J\n",
    "T = 0.5 * m * v_o**2\n",
    "E = T + U_o\n",
    "dx = (x_f - x_i)/100\n",
    "x= x_i\n",
    "t = 0\n",
    "x_d = x_i + dx/2\n",
    "\n",
    "while x <= x_f:\n",
    "    t = t + dx/math.sqrt(2*(E-(U_o*math.sqrt(x_d/L)))/m)\n",
    "    x = x + dx\n",
    "    x_d = x_d + dx\n",
    "    plt.scatter(t,x)\n",
    "    \n",
    "plt.show()"
   ]
  },
  {
   "cell_type": "code",
   "execution_count": 29,
   "metadata": {},
   "outputs": [
    {
     "name": "stdout",
     "output_type": "stream",
     "text": [
      "Please enter initial velocity (m/s)3\n",
      "Please enter degree at which projectile is launched (0 - 90 Degrees)34\n",
      "Please enter drag coefficient (s^-1).1\n",
      "Please enter height of cliff that canon rests on13\n",
      "Time in air: 1.8523087539841228 seconds\n",
      "Range: 4.205399211923135 meters\n"
     ]
    }
   ],
   "source": [
    "g = -9.81 #m/s^2\n",
    "\n",
    "\n",
    "v_i = float(input(\"Please enter initial velocity (m/s)\"))\n",
    "\n",
    "Theta = float(input(\"Please enter degree at which projectile is launched (0 - 90 Degrees)\"))\n",
    "\n",
    "co = float(input(\"Please enter drag coefficient (s^-1)\"))\n",
    "\n",
    "h = float(input(\"Please enter height of cliff that canon rests on\"))\n",
    "\n",
    "\n",
    "def Projectile(v_i, Theta):\n",
    "    Radian = math.radians(Theta)\n",
    "    V_y_i = v_i * math.sin(Radian)\n",
    "    V_x_i = v_i * math.cos(Radian)\n",
    "    t = 30\n",
    "    y = 1\n",
    "    while abs(y) > .01:\n",
    "        x = V_x_i/co * (1 - math.exp(-co*t))\n",
    "        y = (g*t)/(co) + ((V_y_i - g/co)/co)*(1 - math.exp(-1* co * t)) + h\n",
    "        dy = (V_y_i - g/co)*math.exp(-co * t) + g/co\n",
    "        t = t - y/dy\n",
    "    print('Time in air: ' + str(t) + ' seconds')\n",
    "    print('Range: ' + str(x) + ' meters')\n",
    "\n",
    "Projectile(v_i, Theta)"
   ]
  },
  {
   "cell_type": "code",
   "execution_count": null,
   "metadata": {},
   "outputs": [],
   "source": []
  }
 ],
 "metadata": {
  "kernelspec": {
   "display_name": "Python 3",
   "language": "python",
   "name": "python3"
  },
  "language_info": {
   "codemirror_mode": {
    "name": "ipython",
    "version": 3
   },
   "file_extension": ".py",
   "mimetype": "text/x-python",
   "name": "python",
   "nbconvert_exporter": "python",
   "pygments_lexer": "ipython3",
   "version": "3.6.5"
  }
 },
 "nbformat": 4,
 "nbformat_minor": 2
}
