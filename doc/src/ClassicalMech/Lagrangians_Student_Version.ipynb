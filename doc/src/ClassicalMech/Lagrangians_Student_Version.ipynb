{
 "cells": [
  {
   "cell_type": "markdown",
   "metadata": {},
   "source": [
    "# Classical Mechanics - Lagrangians"
   ]
  },
  {
   "cell_type": "markdown",
   "metadata": {},
   "source": [
    "We will first look at how to use Python modules to solve for the equation of motion of a pendulum. First, as per usual, we import our necessary packages/libraries:"
   ]
  },
  {
   "cell_type": "code",
   "execution_count": 4,
   "metadata": {
    "collapsed": true
   },
   "outputs": [],
   "source": [
    "#imports\n",
    "from sympy import *        \n",
    "import numpy as np\n",
    "import matplotlib.pyplot as plt"
   ]
  },
  {
   "cell_type": "markdown",
   "metadata": {},
   "source": [
    "Next, we need to define our variables and constants. We denote x as our only degree of freedom, and t as time. Additionally, we have two constants, m and l, for the mass and length of the pendulum, respectively. We also define our cartesian coordinate system "
   ]
  },
  {
   "cell_type": "code",
   "execution_count": 7,
   "metadata": {
    "collapsed": true
   },
   "outputs": [],
   "source": [
    "#coordinates\n",
    "x, t = symbols('x t')         \n",
    "m, l = symbols('m l')\n",
    "\n",
    "## import the Cartesian coordinate system class\n",
    "from sympy.vector import CoordSys3D\n",
    "## construct a coordinate system called 'R'\n",
    "R = CoordSys3D('R') \n",
    "\n",
    "#Set parameters\n",
    "g = 9.8"
   ]
  },
  {
   "cell_type": "markdown",
   "metadata": {},
   "source": [
    "Now, we must define our angular position as a function of time, and we denote v as the the velocity, i.e. the derivative of x(t):"
   ]
  },
  {
   "cell_type": "code",
   "execution_count": 8,
   "metadata": {
    "collapsed": true
   },
   "outputs": [],
   "source": [
    "x=Function('x')(t)\n",
    "v=diff(x, t)"
   ]
  },
  {
   "cell_type": "markdown",
   "metadata": {},
   "source": [
    "Alright, now using the definition of the Lagrangian and the Euler-Lagrange equation, use diff to analytically compute the differential equation of motion for the pendulum. Verify the result by doing the calculation by hand."
   ]
  },
  {
   "cell_type": "code",
   "execution_count": 9,
   "metadata": {},
   "outputs": [],
   "source": [
    "#Define kinetic and potential energies \n",
    "\n",
    "#Define Lagrangian\n",
    "L=KE-PE\n",
    "\n",
    "#use Euler-Lagrange Equation\n"
   ]
  },
  {
   "cell_type": "markdown",
   "metadata": {},
   "source": [
    "BUT WAIT, THERE'S MORE!!"
   ]
  },
  {
   "cell_type": "markdown",
   "metadata": {},
   "source": [
    "Now that we have the differential equation for the pendulum, we must use a numerical method to find the motion of the pendulum. We will use the Euler-Cromer method; first, define the parameters."
   ]
  },
  {
   "cell_type": "code",
   "execution_count": 10,
   "metadata": {
    "collapsed": true
   },
   "outputs": [],
   "source": [
    "## Set parameters\n",
    "m=1\n",
    "l=1\n",
    "g=9.8\n",
    "dt=0.001\n",
    "time = np.arange(0,10,dt) #over a time span of 10 seconds"
   ]
  },
  {
   "cell_type": "markdown",
   "metadata": {},
   "source": [
    "Now, on your own, initialize numpy arrays as placeholders for the value at each time step for acceleration, velocity, and position, and iterate over each using Euler-Cromer integration. "
   ]
  },
  {
   "cell_type": "code",
   "execution_count": 11,
   "metadata": {},
   "outputs": [],
   "source": [
    "## Initialize position, velocity, and acceleration\n",
    "pos = np.zeros(len(time))\n",
    "vel = np.zeros(len(time))\n",
    "accel = np.zeros(len(time))\n",
    "\n",
    "## Set the initial position and velocity\n",
    "pos[0] = np.pi/3\n",
    "vel[0] = 0\n",
    "\n",
    "## Set up the counter\n",
    "i = 0   \n",
    "\n",
    "## Calculation loop\n",
    "#while i < len(time)-1: ####uncomment while loop\n",
    "    \n",
    "    ## Perform Euler-Cromer integration for the exact differential equation\n",
    "    # insert your various math/coding stuff here\n",
    "    \n",
    "## Plot results here"
   ]
  }
 ],
 "metadata": {
  "kernelspec": {
   "display_name": "Python 3",
   "language": "python",
   "name": "python3"
  },
  "language_info": {
   "codemirror_mode": {
    "name": "ipython",
    "version": 3
   },
   "file_extension": ".py",
   "mimetype": "text/x-python",
   "name": "python",
   "nbconvert_exporter": "python",
   "pygments_lexer": "ipython3",
   "version": "3.6.3"
  }
 },
 "nbformat": 4,
 "nbformat_minor": 2
}
