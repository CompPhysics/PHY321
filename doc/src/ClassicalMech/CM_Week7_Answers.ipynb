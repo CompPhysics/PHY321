{
 "cells": [
  {
   "cell_type": "markdown",
   "metadata": {},
   "source": [
    " ## Classical Mechanics - Week 7 Answers"
   ]
  },
  {
   "cell_type": "markdown",
   "metadata": {},
   "source": [
    "### Last Week:\n",
    "\n",
    "- Learned about Simpson's Rule\n",
    "- Saw the importance of numerical methods\n",
    "- Worked to debug a function\n",
    "\n",
    "### This Week:\n",
    "\n",
    "- Combine everything we've learned so far \n",
    "- Work with Force on more than just two bodies \n",
    "- Introduce new packages for data visualization \n",
    "\n",
    "Hopefully your midterms have gone well so far and if you have any left, good luck! By now you've seen how applicable the simple $F=ma$ is in Classical Mechanics, so let's use this formula once again to study the world around us!"
   ]
  },
  {
   "cell_type": "code",
   "execution_count": 7,
   "metadata": {},
   "outputs": [],
   "source": [
    "# Below are the usual packages we will need. I'm sure you know why each package is useful \n",
    "import numpy as np\n",
    "import matplotlib.pyplot as plt\n",
    "import sympy as sym\n",
    "sym.init_printing(use_unicode=True) "
   ]
  },
  {
   "cell_type": "markdown",
   "metadata": {},
   "source": [
    "By working with 3 or more objects in this force problem we have entered the field of **Many-Body Problems**. For now, let's just consider how we can set up our force equations for three interacting masses in space. To keep things simple as possible, we will work in a 2D world:\n",
    "\n",
    "- $F_1 = \\dfrac{Gm_1m_2}{\\|\\vec{r_1}-\\vec{r_2}\\|} + \\dfrac{Gm_1m_3}{\\|\\vec{r_1}-\\vec{r_3}\\|}$\n",
    "- $F_2 = \\dfrac{Gm_2m_1}{\\|\\vec{r_2}-\\vec{r_1}\\|} + \\dfrac{Gm_2m_3}{\\|\\vec{r_2}-\\vec{r_3}\\|}$\n",
    "- $F_3 = \\dfrac{Gm_3m_1}{\\|\\vec{r_3}-\\vec{r_1}\\|} + \\dfrac{Gm_3m_2}{\\|\\vec{r_3}-\\vec{r_2}\\|}$\n",
    "\n",
    "#### Now, how would we solve for their movement? \n",
    "\n",
    "Great question! Loving it! Just like anything else in Physics or life, there are many pathways we can take to solving this issue. But for now we will just discuss one of many ways to solve for their movement.\n",
    "\n",
    "# Q1.) Go back to your week 3 notebook and review the two methods we utilized (Euler and Verlet). Which method would  you use to try and simulate accurate movement? Why?"
   ]
  },
  {
   "cell_type": "markdown",
   "metadata": {},
   "source": [
    "&#9989; Double click this cell, erase its content, and put your answer to the above question here.\n",
    "\n",
    "####### Possible Answers #######\n",
    "\n",
    "Verlet. This is because it conserves momentum. \n",
    "\n",
    "Verlet. This is because it takes into account force.\n",
    "\n",
    "####### Possible Answers #######"
   ]
  },
  {
   "cell_type": "markdown",
   "metadata": {},
   "source": [
    "For the sake of consistency as a class, let's use a Verlet implemented method to analylze this. Let's break up the method into separate pieces this time, so we can know what's going on more easily.\n",
    "\n",
    "__First__: let's define a funciton that updates our variables, using Verlet's method, every time we call it. (***Hint: take the algorithm within the for-loop from Verlet. We already provide you with the variables one needs to enter into the function***)"
   ]
  },
  {
   "cell_type": "code",
   "execution_count": 14,
   "metadata": {},
   "outputs": [],
   "source": [
    "def VerletForward(pos,a,v,h,i):\n",
    "    pos[i+1] = pos[i] + h*v[i] + (h**2/2)*a[i]\n",
    "    a[i+1] = -4*np.pi**2*pos[i+1]/np.linalg.norm(pos[i+1])**3\n",
    "    v[i+1] = v[i] + h*a[i] + (h/2)*(a[i+1] - a[i])    "
   ]
  },
  {
   "cell_type": "markdown",
   "metadata": {},
   "source": [
    "Now that we have this funciton, we need to figure out how it can be used to work with a three-body problem. If we use the for"
   ]
  },
  {
   "cell_type": "code",
   "execution_count": null,
   "metadata": {},
   "outputs": [],
   "source": []
  },
  {
   "cell_type": "code",
   "execution_count": 15,
   "metadata": {},
   "outputs": [],
   "source": [
    "def VerletPlanetary(tf,N):\n",
    "    r = 1 # The Earth is 1 AU away from the Sun\n",
    "    x_i = 1\n",
    "    y_i = 0\n",
    "    vx_i = 0\n",
    "    vy_i = 2*np.pi\n",
    "    ax_i = -4*np.pi**2*x_i/r**3\n",
    "    ay_i = 0\n",
    "    h = (tf)/N\n",
    "    \n",
    "    v = np.zeros((N,2))\n",
    "    pos = np.zeros((N,2))\n",
    "    a = np.zeros((N,2))\n",
    "    p = np.zeros(N)\n",
    "    v[0] = [vx_i,vy_i]\n",
    "    pos[0] = [x_i, y_i]\n",
    "    a[0] = [ax_i,ay_i]\n",
    "    m = 6*10**24 #kg; mass of the Earth like planet\n",
    "    p[0] = np.linalg.norm(v[0])*m\n",
    "    for i in range(0,N-1):\n",
    "        VerletForward(pos,a,v,h,i)\n",
    "        p[i+1] = np.linalg.norm(v[i+1])*m\n",
    "    \n",
    "    plt.grid()\n",
    "    plt.plot(pos[:,0],pos[:,1])\n",
    "    print(\"Ratio of max and min momentum: \", min(p)/max(p))\n",
    "    print(\"p_min: \", min(p))\n",
    "    print(\"p_max: \", max(p))"
   ]
  },
  {
   "cell_type": "code",
   "execution_count": 16,
   "metadata": {},
   "outputs": [
    {
     "name": "stdout",
     "output_type": "stream",
     "text": [
      "Ratio of max and min momentum:  0.9999802613756271\n",
      "p_min:  3.769836771446966e+25\n",
      "p_max:  3.7699111843077523e+25\n"
     ]
    },
    {
     "data": {
      "image/png": "[encoded data removed]",
      "text/plain": [
       "<Figure size 432x288 with 1 Axes>"
      ]
     },
     "metadata": {},
     "output_type": "display_data"
    }
   ],
   "source": [
    "VerletPlanetary(10,10000)"
   ]
  },
  {
   "cell_type": "markdown",
   "metadata": {},
   "source": [
    "In the function you have initalized above, you will need to factor in the third body"
   ]
  }
 ],
 "metadata": {
  "kernelspec": {
   "display_name": "Python 3",
   "language": "python",
   "name": "python3"
  },
  "language_info": {
   "codemirror_mode": {
    "name": "ipython",
    "version": 3
   },
   "file_extension": ".py",
   "mimetype": "text/x-python",
   "name": "python",
   "nbconvert_exporter": "python",
   "pygments_lexer": "ipython3",
   "version": "3.6.5"
  }
 },
 "nbformat": 4,
 "nbformat_minor": 2
}
